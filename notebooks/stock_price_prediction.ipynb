{
 "cells": [
  {
   "cell_type": "code",
   "execution_count": 2,
   "metadata": {},
   "outputs": [],
   "source": [
    "#! pip install tsfresh"
   ]
  },
  {
   "cell_type": "code",
   "execution_count": 229,
   "metadata": {},
   "outputs": [],
   "source": [
    "import  pandas as pd\n",
    "import yfinance as yf\n",
    "from yahoofinancials import YahooFinancials \n",
    "from sklearn.ensemble import RandomForestRegressor\n",
    "from prophet import Prophet\n",
    "import xgboost as xgb\n",
    "from sklearn.metrics import mean_squared_error\n",
    "from sklearn.pipeline import Pipeline"
   ]
  },
  {
   "cell_type": "code",
   "execution_count": 230,
   "metadata": {},
   "outputs": [
    {
     "data": {
      "text/html": [
       "<div>\n",
       "<style scoped>\n",
       "    .dataframe tbody tr th:only-of-type {\n",
       "        vertical-align: middle;\n",
       "    }\n",
       "\n",
       "    .dataframe tbody tr th {\n",
       "        vertical-align: top;\n",
       "    }\n",
       "\n",
       "    .dataframe thead th {\n",
       "        text-align: right;\n",
       "    }\n",
       "</style>\n",
       "<table border=\"1\" class=\"dataframe\">\n",
       "  <thead>\n",
       "    <tr style=\"text-align: right;\">\n",
       "      <th></th>\n",
       "      <th>Open</th>\n",
       "      <th>High</th>\n",
       "      <th>Low</th>\n",
       "      <th>Close</th>\n",
       "      <th>Adj Close</th>\n",
       "      <th>Volume</th>\n",
       "    </tr>\n",
       "    <tr>\n",
       "      <th>Date</th>\n",
       "      <th></th>\n",
       "      <th></th>\n",
       "      <th></th>\n",
       "      <th></th>\n",
       "      <th></th>\n",
       "      <th></th>\n",
       "    </tr>\n",
       "  </thead>\n",
       "  <tbody>\n",
       "    <tr>\n",
       "      <th>2018-12-31</th>\n",
       "      <td>67.557999</td>\n",
       "      <td>67.842003</td>\n",
       "      <td>65.052002</td>\n",
       "      <td>66.559998</td>\n",
       "      <td>66.559998</td>\n",
       "      <td>31511500</td>\n",
       "    </tr>\n",
       "    <tr>\n",
       "      <th>2019-01-02</th>\n",
       "      <td>61.220001</td>\n",
       "      <td>63.026001</td>\n",
       "      <td>59.759998</td>\n",
       "      <td>62.023998</td>\n",
       "      <td>62.023998</td>\n",
       "      <td>58293000</td>\n",
       "    </tr>\n",
       "    <tr>\n",
       "      <th>2019-01-03</th>\n",
       "      <td>61.400002</td>\n",
       "      <td>61.880001</td>\n",
       "      <td>59.476002</td>\n",
       "      <td>60.071999</td>\n",
       "      <td>60.071999</td>\n",
       "      <td>34826000</td>\n",
       "    </tr>\n",
       "    <tr>\n",
       "      <th>2019-01-04</th>\n",
       "      <td>61.200001</td>\n",
       "      <td>63.599998</td>\n",
       "      <td>60.546001</td>\n",
       "      <td>63.537998</td>\n",
       "      <td>63.537998</td>\n",
       "      <td>36970500</td>\n",
       "    </tr>\n",
       "    <tr>\n",
       "      <th>2019-01-07</th>\n",
       "      <td>64.344002</td>\n",
       "      <td>67.348000</td>\n",
       "      <td>63.549999</td>\n",
       "      <td>66.991997</td>\n",
       "      <td>66.991997</td>\n",
       "      <td>37756000</td>\n",
       "    </tr>\n",
       "  </tbody>\n",
       "</table>\n",
       "</div>"
      ],
      "text/plain": [
       "                 Open       High        Low      Close  Adj Close    Volume\n",
       "Date                                                                       \n",
       "2018-12-31  67.557999  67.842003  65.052002  66.559998  66.559998  31511500\n",
       "2019-01-02  61.220001  63.026001  59.759998  62.023998  62.023998  58293000\n",
       "2019-01-03  61.400002  61.880001  59.476002  60.071999  60.071999  34826000\n",
       "2019-01-04  61.200001  63.599998  60.546001  63.537998  63.537998  36970500\n",
       "2019-01-07  64.344002  67.348000  63.549999  66.991997  66.991997  37756000"
      ]
     },
     "execution_count": 230,
     "metadata": {},
     "output_type": "execute_result"
    }
   ],
   "source": [
    "tsla_df = yf.download('TSLA', \n",
    "                      start='2019-01-01', \n",
    "                      end='2019-12-31', \n",
    "                      progress=False)\n",
    "tsla_df.head()"
   ]
  },
  {
   "cell_type": "code",
   "execution_count": 231,
   "metadata": {},
   "outputs": [
    {
     "data": {
      "text/plain": [
       "(Timestamp('2019-12-30 00:00:00'), Timestamp('2018-12-31 00:00:00'))"
      ]
     },
     "execution_count": 231,
     "metadata": {},
     "output_type": "execute_result"
    }
   ],
   "source": [
    "tsla_df.index.max(),tsla_df.index.min()"
   ]
  },
  {
   "cell_type": "code",
   "execution_count": 227,
   "metadata": {},
   "outputs": [],
   "source": [
    "def load_data(start_date,end_date,ticker):\n",
    "    \"\"\"the functions read data from the yahoo website.\n",
    "     and returns a dataframe and a list\n",
    "     \n",
    "     Input: start date: date format\n",
    "            end date : date format\n",
    "            ticker: name of the stock: string\n",
    "     Output: Target variable:list\n",
    "             Independent variables:dataframe\"\"\"\n",
    "    df = yf.download(ticker,start_date,end_date,progress = False)\n",
    "    df.reset_index(inplace = True)\n",
    "    # add time features that will be used in the prediction\n",
    "    \n",
    "    X= df[[]]\n",
    "    Y = df['Adj Close']\n",
    "    return X,Y\n",
    "\n",
    "X,Y = load_data('2017-01-01','2022-01-31','AMZN')"
   ]
  },
  {
   "cell_type": "code",
   "execution_count": 232,
   "metadata": {},
   "outputs": [
    {
     "ename": "NameError",
     "evalue": "name 'data' is not defined",
     "output_type": "error",
     "traceback": [
      "\u001b[0;31m---------------------------------------------------------------------------\u001b[0m",
      "\u001b[0;31mNameError\u001b[0m                                 Traceback (most recent call last)",
      "\u001b[0;32m<ipython-input-232-2d95428e2708>\u001b[0m in \u001b[0;36m<module>\u001b[0;34m\u001b[0m\n\u001b[0;32m----> 1\u001b[0;31m panel_data = data.DataReader(\n\u001b[0m\u001b[1;32m      2\u001b[0m       \u001b[0mtickers\u001b[0m\u001b[0;34m,\u001b[0m\u001b[0;34m\u001b[0m\u001b[0;34m\u001b[0m\u001b[0m\n\u001b[1;32m      3\u001b[0m       \u001b[0;34m'yahoo'\u001b[0m\u001b[0;34m,\u001b[0m\u001b[0;34m\u001b[0m\u001b[0;34m\u001b[0m\u001b[0m\n\u001b[1;32m      4\u001b[0m       \u001b[0mstart_date\u001b[0m\u001b[0;34m,\u001b[0m\u001b[0;34m\u001b[0m\u001b[0;34m\u001b[0m\u001b[0m\n\u001b[1;32m      5\u001b[0m       end_date)\n",
      "\u001b[0;31mNameError\u001b[0m: name 'data' is not defined"
     ]
    }
   ],
   "source": [
    "panel_data = data.DataReader(\n",
    "      tickers,\n",
    "      'yahoo',\n",
    "      start_date,\n",
    "      end_date)\n",
    "\n",
    "panel_data = pd.DataFrame(panel_data)\n"
   ]
  },
  {
   "cell_type": "code",
   "execution_count": 216,
   "metadata": {},
   "outputs": [],
   "source": [
    "#split the data, since the data is a timeseries,\n",
    "#will split it based on the date,and keep 30days data as the test data\n",
    "\n",
    "# def train_test_split(X,Y,n_steps,end_date = None):\n",
    "#     \"\"\"split the data to train and test sets\n",
    "#        input: X,Y\n",
    "#        output: X_train: dataframe\n",
    "#                Y_train: list\n",
    "#                X_test:dataframe\n",
    "#                Y_test:list\"\"\"\n",
    "#     end_date = pd.to_datetime(end_date)\n",
    "#     X_train= X[:end_date]\n",
    "#     Y_train= Y[:end_date]\n",
    "#     X_test = X[end_date:end_date+timedelta(days = n_steps)]\n",
    "#     Y_test = Y[end_date:end_date+timedelta(days = n_steps)]\n",
    "#     return X_train,Y_train,X_test,Y_test\n",
    "\n",
    "\n",
    "def train_test_split(X,Y,end_date,max_date):\n",
    "    \"\"\"split the data to train and test sets\n",
    "       input: X,Y\n",
    "       output: X_train: dataframe\n",
    "               Y_train: list\n",
    "               X_test:dataframe\n",
    "               Y_test:list\"\"\"\n",
    "\n",
    "    X_train= X[:end_date]\n",
    "    Y_train= Y[:end_date]\n",
    "    X_test = X[end_date:max_date]\n",
    "    Y_test = Y[end_date:max_date]\n",
    "    return X_train,Y_train,X_test,Y_test\n",
    "\n",
    "\n",
    "X_train,Y_train,X_test,Y_test = train_test_split(X,Y,end_date='2021-12-31',max_date = '2022-01-31') "
   ]
  },
  {
   "cell_type": "code",
   "execution_count": 220,
   "metadata": {},
   "outputs": [],
   "source": [
    "def build_model():\n",
    "\n",
    "    pipeline = Pipeline([\n",
    "        ('clf', RandomForestRegressor())\n",
    "    ]) \n",
    "\n",
    "    return pipeline"
   ]
  },
  {
   "cell_type": "code",
   "execution_count": 221,
   "metadata": {},
   "outputs": [],
   "source": [
    "# def model_build():\n",
    "#     model = RandomForestRegressor()\n",
    "#     return model"
   ]
  },
  {
   "cell_type": "code",
   "execution_count": 222,
   "metadata": {},
   "outputs": [],
   "source": [
    "model = build_model()"
   ]
  },
  {
   "cell_type": "code",
   "execution_count": 223,
   "metadata": {},
   "outputs": [
    {
     "data": {
      "text/plain": [
       "Pipeline(steps=[('clf', RandomForestRegressor())])"
      ]
     },
     "execution_count": 223,
     "metadata": {},
     "output_type": "execute_result"
    }
   ],
   "source": [
    "model.fit(X_train,Y_train)"
   ]
  },
  {
   "cell_type": "code",
   "execution_count": 226,
   "metadata": {},
   "outputs": [
    {
     "name": "stdout",
     "output_type": "stream",
     "text": [
      "              Adj Close  Adj Close Forecasted      mape\n",
      "Date                                                   \n",
      "2021-12-31  3334.340088           3334.322852  0.000517\n",
      "2022-01-03  3408.090088           3408.436750  0.010172\n",
      "2022-01-04  3350.439941           3351.252168  0.024242\n",
      "2022-01-05  3287.139893           3286.813577  0.009927\n",
      "2022-01-06  3265.080078           3265.238152  0.004841\n",
      "2022-01-07  3251.080078           3248.280696  0.086106\n",
      "2022-01-10  3229.719971           3230.953145  0.038182\n",
      "2022-01-11  3307.239990           3306.888311  0.010634\n",
      "2022-01-12  3304.139893           3304.323699  0.005563\n",
      "2022-01-13  3224.280029           3223.708137  0.017737\n",
      "2022-01-14  3242.760010           3241.599277  0.035795\n",
      "2022-01-18  3178.350098           3177.487173  0.027150\n",
      "2022-01-19  3125.979980           3126.795093  0.026075\n",
      "2022-01-20  3033.350098           3033.450188  0.003300\n",
      "2022-01-21  2852.860107           2919.701177  2.342949\n",
      "2022-01-24  2890.879883           2843.026782  1.655313\n",
      "2022-01-25  2799.719971           2812.871663  0.469750\n",
      "2022-01-26  2777.449951           2832.886770  1.995961\n",
      "2022-01-27  2792.750000           2819.850867  0.970401\n",
      "2022-01-28  2879.560059           2847.669761  1.107471\n"
     ]
    }
   ],
   "source": [
    "def evaluate_model(model,X_test,Y_test):\n",
    "    Y_pred = model.predict(X_test)\n",
    "    predicted = pd.DataFrame(Y_test)\n",
    "    predicted['Adj Close Forecasted'] = Y_pred\n",
    "    mape = abs(predicted['Adj Close']-predicted['Adj Close Forecasted'])/predicted['Adj Close']*100\n",
    "    predicted['mape'] = mape\n",
    "    mean_mape = predicted.mape.mean()\n",
    "    mse= mean_squared_error(Y_test,Y_pred)\n",
    "    print(predicted)\n",
    "    #return mse,mape,predicted\n",
    "\n",
    "\n",
    "evaluate_model(model,X_test,Y_test)"
   ]
  },
  {
   "cell_type": "code",
   "execution_count": null,
   "metadata": {},
   "outputs": [],
   "source": [
    "def predict_stock_price(ticker,n_steps = 30):\n",
    "    \"\"\"predicts the price of the stocks n steps ahead\n",
    "    \"\"\"\n",
    "    \n",
    "    "
   ]
  },
  {
   "cell_type": "code",
   "execution_count": null,
   "metadata": {},
   "outputs": [],
   "source": [
    "def main():\n",
    "    X, Y = load_data(start_date,end_date,ticker)\n",
    "    X_train,Y_train,X_test,Y_test = train_test_split(X,Y,end_date='2021-12-01')\n",
    "\n",
    "    model = model_pipeline()\n",
    "    model.fit(X_train, y_train)\n",
    "    mse,mape,predicted = evaluate_model(model,X_test,Y_test)\n",
    "\n",
    "main()"
   ]
  }
 ],
 "metadata": {
  "kernelspec": {
   "display_name": "Python 3",
   "language": "python",
   "name": "python3"
  },
  "language_info": {
   "codemirror_mode": {
    "name": "ipython",
    "version": 3
   },
   "file_extension": ".py",
   "mimetype": "text/x-python",
   "name": "python",
   "nbconvert_exporter": "python",
   "pygments_lexer": "ipython3",
   "version": "3.6.9"
  }
 },
 "nbformat": 4,
 "nbformat_minor": 2
}
