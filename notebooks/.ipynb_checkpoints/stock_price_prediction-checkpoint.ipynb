{
 "cells": [
  {
   "cell_type": "code",
   "execution_count": 2,
   "metadata": {},
   "outputs": [],
   "source": [
    "#! pip install tsfresh"
   ]
  },
  {
   "cell_type": "code",
   "execution_count": 98,
   "metadata": {},
   "outputs": [],
   "source": [
    "import  pandas as pd\n",
    "import yfinance as yf\n",
    "from yahoofinancials import YahooFinancials \n",
    "from sklearn.ensemble import RandomForestRegressor\n",
    "from prophet import Prophet\n",
    "import xgboost as xgb\n",
    "from sklearn.metrics import mean_squared_error\n",
    "from sklearn.pipeline import Pipeline"
   ]
  },
  {
   "cell_type": "code",
   "execution_count": 19,
   "metadata": {},
   "outputs": [
    {
     "data": {
      "text/html": [
       "<div>\n",
       "<style scoped>\n",
       "    .dataframe tbody tr th:only-of-type {\n",
       "        vertical-align: middle;\n",
       "    }\n",
       "\n",
       "    .dataframe tbody tr th {\n",
       "        vertical-align: top;\n",
       "    }\n",
       "\n",
       "    .dataframe thead th {\n",
       "        text-align: right;\n",
       "    }\n",
       "</style>\n",
       "<table border=\"1\" class=\"dataframe\">\n",
       "  <thead>\n",
       "    <tr style=\"text-align: right;\">\n",
       "      <th></th>\n",
       "      <th>Open</th>\n",
       "      <th>High</th>\n",
       "      <th>Low</th>\n",
       "      <th>Close</th>\n",
       "      <th>Adj Close</th>\n",
       "      <th>Volume</th>\n",
       "    </tr>\n",
       "    <tr>\n",
       "      <th>Date</th>\n",
       "      <th></th>\n",
       "      <th></th>\n",
       "      <th></th>\n",
       "      <th></th>\n",
       "      <th></th>\n",
       "      <th></th>\n",
       "    </tr>\n",
       "  </thead>\n",
       "  <tbody>\n",
       "    <tr>\n",
       "      <th>2018-12-31</th>\n",
       "      <td>67.557999</td>\n",
       "      <td>67.842003</td>\n",
       "      <td>65.052002</td>\n",
       "      <td>66.559998</td>\n",
       "      <td>66.559998</td>\n",
       "      <td>31511500</td>\n",
       "    </tr>\n",
       "    <tr>\n",
       "      <th>2019-01-02</th>\n",
       "      <td>61.220001</td>\n",
       "      <td>63.026001</td>\n",
       "      <td>59.759998</td>\n",
       "      <td>62.023998</td>\n",
       "      <td>62.023998</td>\n",
       "      <td>58293000</td>\n",
       "    </tr>\n",
       "    <tr>\n",
       "      <th>2019-01-03</th>\n",
       "      <td>61.400002</td>\n",
       "      <td>61.880001</td>\n",
       "      <td>59.476002</td>\n",
       "      <td>60.071999</td>\n",
       "      <td>60.071999</td>\n",
       "      <td>34826000</td>\n",
       "    </tr>\n",
       "    <tr>\n",
       "      <th>2019-01-04</th>\n",
       "      <td>61.200001</td>\n",
       "      <td>63.599998</td>\n",
       "      <td>60.546001</td>\n",
       "      <td>63.537998</td>\n",
       "      <td>63.537998</td>\n",
       "      <td>36970500</td>\n",
       "    </tr>\n",
       "    <tr>\n",
       "      <th>2019-01-07</th>\n",
       "      <td>64.344002</td>\n",
       "      <td>67.348000</td>\n",
       "      <td>63.549999</td>\n",
       "      <td>66.991997</td>\n",
       "      <td>66.991997</td>\n",
       "      <td>37756000</td>\n",
       "    </tr>\n",
       "  </tbody>\n",
       "</table>\n",
       "</div>"
      ],
      "text/plain": [
       "                 Open       High        Low      Close  Adj Close    Volume\n",
       "Date                                                                       \n",
       "2018-12-31  67.557999  67.842003  65.052002  66.559998  66.559998  31511500\n",
       "2019-01-02  61.220001  63.026001  59.759998  62.023998  62.023998  58293000\n",
       "2019-01-03  61.400002  61.880001  59.476002  60.071999  60.071999  34826000\n",
       "2019-01-04  61.200001  63.599998  60.546001  63.537998  63.537998  36970500\n",
       "2019-01-07  64.344002  67.348000  63.549999  66.991997  66.991997  37756000"
      ]
     },
     "execution_count": 19,
     "metadata": {},
     "output_type": "execute_result"
    }
   ],
   "source": [
    "tsla_df = yf.download('TSLA', \n",
    "                      start='2019-01-01', \n",
    "                      end='2019-12-31', \n",
    "                      progress=False)\n",
    "tsla_df.head()"
   ]
  },
  {
   "cell_type": "code",
   "execution_count": 18,
   "metadata": {},
   "outputs": [
    {
     "data": {
      "text/plain": [
       "(Timestamp('2019-12-30 00:00:00'), Timestamp('2018-12-31 00:00:00'))"
      ]
     },
     "execution_count": 18,
     "metadata": {},
     "output_type": "execute_result"
    }
   ],
   "source": [
    "tsla_df.index.max(),tsla_df.index.min()"
   ]
  },
  {
   "cell_type": "code",
   "execution_count": 84,
   "metadata": {},
   "outputs": [],
   "source": [
    "def load_data(start_date,end_date,ticker):\n",
    "    \"\"\"the functions read data from the yahoo website.\n",
    "     and returns a dataframe and a list\n",
    "     \n",
    "     Input: start date: date format\n",
    "            end date : date format\n",
    "            ticker: name of the stock: string\n",
    "     Output: Target variable:list\n",
    "             Independent variables:dataframe\"\"\"\n",
    "    df = yf.download(ticker,start_date,end_date,progress = False)\n",
    "    X= df[['Open','High','Low','Close','Volume']]\n",
    "    Y = df['Adj Close']\n",
    "    return X,Y\n",
    "\n",
    "X,Y = load_data('2017-01-01','2022-01-01','AMZN')"
   ]
  },
  {
   "cell_type": "code",
   "execution_count": 161,
   "metadata": {},
   "outputs": [],
   "source": [
    "#split the data, since the data is a timeseries,\n",
    "#will split it based on the date,and keep 30days data as the test data\n",
    "\n",
    "def train_test_split(X,Y,n_steps,end_date = None):\n",
    "    \"\"\"split the data to train and test sets\n",
    "       input: X,Y\n",
    "       output: X_train: dataframe\n",
    "               Y_train: list\n",
    "               X_test:dataframe\n",
    "               Y_test:list\"\"\"\n",
    "    end_date = pd.to_datetime(end_date)\n",
    "    X_train= X[:end_date]\n",
    "    Y_train= Y[:end_date]\n",
    "    X_test = X[end_date:end_date+timedelta(days = n_steps)]\n",
    "    Y_test = Y[end_date:end_date+timedelta(days = n_steps)]\n",
    "    return X_train,Y_train,X_test,Y_test\n",
    "\n",
    "\n",
    "X_train,Y_train,X_test,Y_test = train_test_split(X,Y,1,end_date='2021-12-01') "
   ]
  },
  {
   "cell_type": "code",
   "execution_count": 162,
   "metadata": {},
   "outputs": [],
   "source": [
    "def build_model():\n",
    "\n",
    "    pipeline = Pipeline([\n",
    "        ('clf', RandomForestRegressor())\n",
    "    ]) \n",
    "\n",
    "    return pipeline"
   ]
  },
  {
   "cell_type": "code",
   "execution_count": 163,
   "metadata": {},
   "outputs": [],
   "source": [
    "# def model_build():\n",
    "#     model = RandomForestRegressor()\n",
    "#     return model"
   ]
  },
  {
   "cell_type": "code",
   "execution_count": 164,
   "metadata": {},
   "outputs": [],
   "source": [
    "model = build_model()"
   ]
  },
  {
   "cell_type": "code",
   "execution_count": 165,
   "metadata": {},
   "outputs": [
    {
     "data": {
      "text/plain": [
       "Pipeline(steps=[('clf', RandomForestRegressor())])"
      ]
     },
     "execution_count": 165,
     "metadata": {},
     "output_type": "execute_result"
    }
   ],
   "source": [
    "model.fit(X_train,Y_train)"
   ]
  },
  {
   "cell_type": "code",
   "execution_count": 172,
   "metadata": {},
   "outputs": [
    {
     "name": "stdout",
     "output_type": "stream",
     "text": [
      "              Adj Close  Adj Close Forecasted      mape\n",
      "Date                                                   \n",
      "2021-12-01  3443.719971           3444.175750  0.013235\n",
      "2021-12-02  3437.360107           3436.590657  0.022385\n"
     ]
    }
   ],
   "source": [
    "def evaluate_model(model,X_test,Y_test):\n",
    "    Y_pred = model.predict(X_test)\n",
    "    predicted = pd.DataFrame(Y_test)\n",
    "    predicted['Adj Close Forecasted'] = Y_pred\n",
    "    mape = abs(predicted['Adj Close']-predicted['Adj Close Forecasted'])/predicted['Adj Close']*100\n",
    "    predicted['mape'] = mape\n",
    "    mean_mape = predicted.mape.mean()\n",
    "    mse= mean_squared_error(Y_test,Y_pred)\n",
    "    print(predicted)\n",
    "    return mse,mape,predicted\n",
    "\n",
    "\n",
    "mse,mape,predicted = evaluate_model(model,X_test,Y_test)"
   ]
  },
  {
   "cell_type": "code",
   "execution_count": 171,
   "metadata": {},
   "outputs": [
    {
     "data": {
      "text/html": [
       "<div>\n",
       "<style scoped>\n",
       "    .dataframe tbody tr th:only-of-type {\n",
       "        vertical-align: middle;\n",
       "    }\n",
       "\n",
       "    .dataframe tbody tr th {\n",
       "        vertical-align: top;\n",
       "    }\n",
       "\n",
       "    .dataframe thead th {\n",
       "        text-align: right;\n",
       "    }\n",
       "</style>\n",
       "<table border=\"1\" class=\"dataframe\">\n",
       "  <thead>\n",
       "    <tr style=\"text-align: right;\">\n",
       "      <th></th>\n",
       "      <th>Adj Close</th>\n",
       "      <th>Adj Close Forecasted</th>\n",
       "      <th>mape</th>\n",
       "    </tr>\n",
       "    <tr>\n",
       "      <th>Date</th>\n",
       "      <th></th>\n",
       "      <th></th>\n",
       "      <th></th>\n",
       "    </tr>\n",
       "  </thead>\n",
       "  <tbody>\n",
       "    <tr>\n",
       "      <th>2021-12-01</th>\n",
       "      <td>3443.719971</td>\n",
       "      <td>3444.175750</td>\n",
       "      <td>0.013235</td>\n",
       "    </tr>\n",
       "    <tr>\n",
       "      <th>2021-12-02</th>\n",
       "      <td>3437.360107</td>\n",
       "      <td>3436.590657</td>\n",
       "      <td>0.022385</td>\n",
       "    </tr>\n",
       "  </tbody>\n",
       "</table>\n",
       "</div>"
      ],
      "text/plain": [
       "              Adj Close  Adj Close Forecasted      mape\n",
       "Date                                                   \n",
       "2021-12-01  3443.719971           3444.175750  0.013235\n",
       "2021-12-02  3437.360107           3436.590657  0.022385"
      ]
     },
     "execution_count": 171,
     "metadata": {},
     "output_type": "execute_result"
    }
   ],
   "source": [
    "predicted"
   ]
  },
  {
   "cell_type": "code",
   "execution_count": 169,
   "metadata": {},
   "outputs": [
    {
     "data": {
      "text/plain": [
       "(0.39989433842290845, Date\n",
       " 2021-12-01    0.013235\n",
       " 2021-12-02    0.022385\n",
       " dtype: float64)"
      ]
     },
     "execution_count": 169,
     "metadata": {},
     "output_type": "execute_result"
    }
   ],
   "source": [
    "mse,mape"
   ]
  },
  {
   "cell_type": "code",
   "execution_count": null,
   "metadata": {},
   "outputs": [],
   "source": [
    "def main():\n",
    "    X, Y = load_data(start_date,end_date,ticker)\n",
    "    X_train,Y_train,X_test,Y_test = train_test_split(X,Y,end_date='2021-12-01')\n",
    "\n",
    "    model = model_pipeline()\n",
    "    model.fit(X_train, y_train)\n",
    "    mse,mape,predicted = evaluate_model(model,X_test,Y_test)\n",
    "\n",
    "main()"
   ]
  }
 ],
 "metadata": {
  "kernelspec": {
   "display_name": "Python 3",
   "language": "python",
   "name": "python3"
  },
  "language_info": {
   "codemirror_mode": {
    "name": "ipython",
    "version": 3
   },
   "file_extension": ".py",
   "mimetype": "text/x-python",
   "name": "python",
   "nbconvert_exporter": "python",
   "pygments_lexer": "ipython3",
   "version": "3.6.9"
  }
 },
 "nbformat": 4,
 "nbformat_minor": 2
}
