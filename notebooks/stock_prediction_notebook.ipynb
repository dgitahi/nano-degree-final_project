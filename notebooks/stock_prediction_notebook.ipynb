{
 "cells": [
  {
   "cell_type": "markdown",
   "metadata": {},
   "source": [
    "##  Project Description"
   ]
  },
  {
   "cell_type": "markdown",
   "metadata": {},
   "source": [
    "Investment firms, hedge funds and even individuals have been using financial models to better understand market behavior and make profitable investments and trades. A wealth of information is available in the form of historical stock prices and company performance data, suitable for machine learning algorithms to process.\n",
    "For this project, the task is to build a stock price predictor that takes daily trading data over a certain date range as input, and outputs projected estimates for given query dates.\n",
    "\n",
    "The inputs will contain multiple metrics, such as opening price (Open), highest price the stock traded at (High), how many stocks were traded (Volume) and closing price adjusted for stock splits and dividends (Adjusted Close); we are only  predicting the Adjusted Close price.\n",
    "\n",
    "The project will use a simple script.\n",
    "1. Training Script:\n",
    "   Does the Model training and saves the model, it also returns the error rate for the predicted days\n",
    "   \n",
    "2. Prediction script:\n",
    "   Takes the saved model and forecast the price of the stocks provided\n",
    "   NB:For you to forecast a given stock, need to have trained a model for that specific stock\n",
    "   \n",
    " "
   ]
  },
  {
   "cell_type": "code",
   "execution_count": 29,
   "metadata": {},
   "outputs": [],
   "source": [
    "#from urllib.parse import urlencode\n",
    "#from pandas_datareader import data\n",
    "\n",
    "import matplotlib.pyplot as plt\n",
    "import seaborn as sns\n",
    "import pandas as pd\n",
    "import numpy as np\n",
    "\n",
    "from datetime import date\n",
    "from datetime import datetime\n",
    "from datetime import timedelta\n",
    "\n",
    "from tsfresh import extract_features\n",
    "from tsfresh import select_features\n",
    "from tsfresh.utilities.dataframe_functions import impute\n",
    "\n",
    "from sklearn.pipeline import Pipeline\n",
    "from sklearn.linear_model import LogisticRegression\n",
    "from sklearn.ensemble import GradientBoostingRegressor\n",
    "from sklearn.linear_model import LinearRegression\n",
    "from sklearn.model_selection import train_test_split\n",
    "from sklearn.metrics import r2_score, mean_squared_error\n",
    "\n",
    "from tsfresh.transformers import RelevantFeatureAugmenter\n",
    "\n",
    "import plotly.io as pio\n",
    "from dateutil.relativedelta import relativedelta, MO\n",
    "import plotly.express as px\n",
    "from plotly.subplots import make_subplots\n",
    "import plotly.graph_objects as go\n",
    "\n",
    "\n",
    "from prophet import Prophet\n",
    "\n",
    "\n",
    "from pandas_datareader import data\n",
    "import statsmodels.api as sm\n"
   ]
  },
  {
   "cell_type": "code",
   "execution_count": null,
   "metadata": {},
   "outputs": [],
   "source": []
  },
  {
   "cell_type": "markdown",
   "metadata": {},
   "source": [
    "#### Load Data\n",
    "\n",
    "Start by loading data using an API from the yahoo site.\n",
    "\n",
    "We are only taking a sample of the stock for the puopose of model training and tuning"
   ]
  },
  {
   "cell_type": "code",
   "execution_count": 5,
   "metadata": {},
   "outputs": [],
   "source": [
    "def load_data(symbols, start_date, end_date):\n",
    "      \"\"\"\n",
    "      INPUT:\n",
    "      tickers : list containing the tickers of the stocks whose prices will be predicted\n",
    "      start_date : initial date to gather data\n",
    "      end_data : final date to gather data\n",
    "      OUTPUT:\n",
    "      prices_base : dataframe containing the adjusted closing price for the stocks\n",
    "                    on the desired time frame\n",
    "      \"\"\"\n",
    "      df = data.DataReader(\n",
    "          symbols,\n",
    "          'yahoo',\n",
    "          start_date,\n",
    "          end_date)\n",
    "\n",
    "      df = pd.DataFrame(df)\n",
    "      df_base = df['Adj Close']\n",
    "    \n",
    "      try: \n",
    "            \n",
    "           df_prices = df_base.stack()\n",
    "           df_prices = pd.DataFrame(df_prices)\n",
    "           df_prices.columns = ['y']\n",
    "        \n",
    "      except:\n",
    "        df = pd.DataFrame(df_base)\n",
    "        df['Symbols'] = symbols\n",
    "        df.rename(columns= {'Adj Close':'y'},inplace = True)\n",
    "        df_prices = df\n",
    "        \n",
    "      #print(df_prices)\n",
    "\n",
    "      df_prices.reset_index(inplace=True)\n",
    "      df_prices = df_prices.sort_values(by = ['Symbols','Date'])\n",
    "      df_prices.rename(columns = {'Date':'ds'},inplace = True)\n",
    "      \n",
    "      \n",
    "\n",
    "      return df_prices\n"
   ]
  },
  {
   "cell_type": "code",
   "execution_count": 7,
   "metadata": {},
   "outputs": [],
   "source": [
    "df = load_data(['GOOGL','AAPL'],'2019-05-01','2022-01-01')"
   ]
  },
  {
   "cell_type": "markdown",
   "metadata": {},
   "source": [
    "### Features\n",
    "Create time features that will be used as inputs to the model.\n",
    "\n",
    "Time features are good in timeseries because.\n",
    "1. You can generate the features even for the future dates.\n",
    "2. Most of the time series are seasonal and therefore time features are able to capture such aspects of the response variable\n",
    "\n",
    "NB: Will create as many as we can and keep only thoes that will be siggnificant for the model\n"
   ]
  },
  {
   "cell_type": "code",
   "execution_count": 14,
   "metadata": {},
   "outputs": [],
   "source": [
    "def create_time_features(df):\n",
    "    \n",
    "    df['dayofweek'] = df['ds'].dt.dayofweek\n",
    "    df['quarter'] = df['ds'].dt.quarter\n",
    "    df['month'] = df['ds'].dt.month\n",
    "    df['year'] = df['ds'].dt.year\n",
    "    df['dayofyear'] = df['ds'].dt.dayofyear\n",
    "    df['sin_day'] = np.sin(df['dayofyear'])\n",
    "    df['cos_day'] = np.cos(df['dayofyear'])\n",
    "    df['dayofmonth'] = df['ds'].dt.day\n",
    "    df['weekofyear'] = df['ds'].dt.weekofyear\n",
    "    df=df.sort_values('ds')\n",
    "    return df  "
   ]
  },
  {
   "cell_type": "code",
   "execution_count": 15,
   "metadata": {},
   "outputs": [
    {
     "name": "stderr",
     "output_type": "stream",
     "text": [
      "/Users/dgitahi/anaconda3/lib/python3.6/site-packages/ipykernel_launcher.py:11: FutureWarning:\n",
      "\n",
      "Series.dt.weekofyear and Series.dt.week have been deprecated.  Please use Series.dt.isocalendar().week instead.\n",
      "\n"
     ]
    }
   ],
   "source": [
    "df = create_time_features(df)"
   ]
  },
  {
   "cell_type": "markdown",
   "metadata": {},
   "source": [
    "## Exploratory Data Analysis"
   ]
  },
  {
   "cell_type": "code",
   "execution_count": 17,
   "metadata": {},
   "outputs": [
    {
     "data": {
      "text/html": [
       "<div>\n",
       "<style scoped>\n",
       "    .dataframe tbody tr th:only-of-type {\n",
       "        vertical-align: middle;\n",
       "    }\n",
       "\n",
       "    .dataframe tbody tr th {\n",
       "        vertical-align: top;\n",
       "    }\n",
       "\n",
       "    .dataframe thead th {\n",
       "        text-align: right;\n",
       "    }\n",
       "</style>\n",
       "<table border=\"1\" class=\"dataframe\">\n",
       "  <thead>\n",
       "    <tr style=\"text-align: right;\">\n",
       "      <th></th>\n",
       "      <th>ds</th>\n",
       "      <th>Symbols</th>\n",
       "      <th>y</th>\n",
       "      <th>dayofweek</th>\n",
       "      <th>quarter</th>\n",
       "      <th>month</th>\n",
       "      <th>year</th>\n",
       "      <th>dayofyear</th>\n",
       "      <th>sin_day</th>\n",
       "      <th>cos_day</th>\n",
       "      <th>dayofmonth</th>\n",
       "      <th>weekofyear</th>\n",
       "    </tr>\n",
       "  </thead>\n",
       "  <tbody>\n",
       "    <tr>\n",
       "      <th>1</th>\n",
       "      <td>2019-05-01</td>\n",
       "      <td>AAPL</td>\n",
       "      <td>51.245850</td>\n",
       "      <td>2</td>\n",
       "      <td>2</td>\n",
       "      <td>5</td>\n",
       "      <td>2019</td>\n",
       "      <td>121</td>\n",
       "      <td>0.998815</td>\n",
       "      <td>-0.048664</td>\n",
       "      <td>1</td>\n",
       "      <td>18</td>\n",
       "    </tr>\n",
       "    <tr>\n",
       "      <th>0</th>\n",
       "      <td>2019-05-01</td>\n",
       "      <td>GOOGL</td>\n",
       "      <td>1173.319946</td>\n",
       "      <td>2</td>\n",
       "      <td>2</td>\n",
       "      <td>5</td>\n",
       "      <td>2019</td>\n",
       "      <td>121</td>\n",
       "      <td>0.998815</td>\n",
       "      <td>-0.048664</td>\n",
       "      <td>1</td>\n",
       "      <td>18</td>\n",
       "    </tr>\n",
       "    <tr>\n",
       "      <th>2</th>\n",
       "      <td>2019-05-02</td>\n",
       "      <td>GOOGL</td>\n",
       "      <td>1166.510010</td>\n",
       "      <td>3</td>\n",
       "      <td>2</td>\n",
       "      <td>5</td>\n",
       "      <td>2019</td>\n",
       "      <td>122</td>\n",
       "      <td>0.498713</td>\n",
       "      <td>-0.866767</td>\n",
       "      <td>2</td>\n",
       "      <td>18</td>\n",
       "    </tr>\n",
       "    <tr>\n",
       "      <th>3</th>\n",
       "      <td>2019-05-02</td>\n",
       "      <td>AAPL</td>\n",
       "      <td>50.912350</td>\n",
       "      <td>3</td>\n",
       "      <td>2</td>\n",
       "      <td>5</td>\n",
       "      <td>2019</td>\n",
       "      <td>122</td>\n",
       "      <td>0.498713</td>\n",
       "      <td>-0.866767</td>\n",
       "      <td>2</td>\n",
       "      <td>18</td>\n",
       "    </tr>\n",
       "    <tr>\n",
       "      <th>5</th>\n",
       "      <td>2019-05-03</td>\n",
       "      <td>AAPL</td>\n",
       "      <td>51.545261</td>\n",
       "      <td>4</td>\n",
       "      <td>2</td>\n",
       "      <td>5</td>\n",
       "      <td>2019</td>\n",
       "      <td>123</td>\n",
       "      <td>-0.459903</td>\n",
       "      <td>-0.887969</td>\n",
       "      <td>3</td>\n",
       "      <td>18</td>\n",
       "    </tr>\n",
       "  </tbody>\n",
       "</table>\n",
       "</div>"
      ],
      "text/plain": [
       "          ds Symbols            y  dayofweek  quarter  month  year  dayofyear  \\\n",
       "1 2019-05-01    AAPL    51.245850          2        2      5  2019        121   \n",
       "0 2019-05-01   GOOGL  1173.319946          2        2      5  2019        121   \n",
       "2 2019-05-02   GOOGL  1166.510010          3        2      5  2019        122   \n",
       "3 2019-05-02    AAPL    50.912350          3        2      5  2019        122   \n",
       "5 2019-05-03    AAPL    51.545261          4        2      5  2019        123   \n",
       "\n",
       "    sin_day   cos_day  dayofmonth  weekofyear  \n",
       "1  0.998815 -0.048664           1          18  \n",
       "0  0.998815 -0.048664           1          18  \n",
       "2  0.498713 -0.866767           2          18  \n",
       "3  0.498713 -0.866767           2          18  \n",
       "5 -0.459903 -0.887969           3          18  "
      ]
     },
     "execution_count": 17,
     "metadata": {},
     "output_type": "execute_result"
    }
   ],
   "source": [
    "df.head()"
   ]
  },
  {
   "cell_type": "code",
   "execution_count": 22,
   "metadata": {},
   "outputs": [
    {
     "data": {
      "text/plain": [
       "[['Symbols', 'y']]"
      ]
     },
     "execution_count": 22,
     "metadata": {},
     "output_type": "execute_result"
    }
   ],
   "source": [
    "df_viz"
   ]
  },
  {
   "cell_type": "code",
   "execution_count": null,
   "metadata": {},
   "outputs": [],
   "source": []
  },
  {
   "cell_type": "code",
   "execution_count": 27,
   "metadata": {
    "scrolled": false
   },
   "outputs": [
    {
     "name": "stdout",
     "output_type": "stream",
     "text": [
      "AAPL\n"
     ]
    },
    {
     "data": {
      "image/png": "[encoded data removed]",
      "text/plain": [
       "<Figure size 1080x432 with 1 Axes>"
      ]
     },
     "metadata": {
      "needs_background": "light"
     },
     "output_type": "display_data"
    },
    {
     "name": "stdout",
     "output_type": "stream",
     "text": [
      "GOOGL\n"
     ]
    },
    {
     "data": {
      "image/png": "[encoded data removed]",
      "text/plain": [
       "<Figure size 1080x432 with 1 Axes>"
      ]
     },
     "metadata": {
      "needs_background": "light"
     },
     "output_type": "display_data"
    }
   ],
   "source": [
    "df_viz = df.set_index('ds')\n",
    "df_viz= df_viz[['Symbols','y']]\n",
    "for symbol in df.Symbols.unique():\n",
    "    df_ = df_viz[df_viz.Symbols==symbol]\n",
    "    print(symbol)\n",
    "    df_.plot(kind = 'line',figsize=(15, 6))\n",
    "    plt.show()\n",
    "    \n",
    "#     df_ = df[df.Symbols==symbol]\n",
    "#     df_.sort_values(by = 'ds',inplace=True)\n",
    "    \n",
    "\n",
    "\n",
    "#     fig = go.Figure(layout={'width' :1000,'height':500})\n",
    "\n",
    "#     fig.add_trace(go.Scatter(x=df_.ds,y=df_.y,\n",
    "#                         mode='lines+markers',\n",
    "#                         name='Price'))\n",
    "\n",
    "#     #     fig.add_trace(go.Scatter(x=df.ds,y=df.yhat_lower,\n",
    "#     #                         mode='lines+markers',\n",
    "#     #                         name='lower_boundary'))\n",
    "\n",
    "#     #     fig.add_trace(go.Scatter(x=df.ds,y=df.yhat_upper,\n",
    "#     #                         mode='lines+markers',\n",
    "#     #                         name='upper_boundary'))\n",
    "\n",
    "#     fig.update_layout(title = symbol,\n",
    "#                      yaxis_title = \"Price\")\n",
    "#     fig.show()\n",
    "\n",
    "    #fig.update_yaxes(range=[10000, 800000])\n"
   ]
  },
  {
   "cell_type": "markdown",
   "metadata": {},
   "source": [
    "From the above tread there is a change i trend from the Year 2020.\n",
    "\n",
    "Will therefor confine the trainig data from year 2020 going forward."
   ]
  },
  {
   "cell_type": "code",
   "execution_count": 42,
   "metadata": {},
   "outputs": [
    {
     "data": {
      "text/html": [
       "<div>\n",
       "<style scoped>\n",
       "    .dataframe tbody tr th:only-of-type {\n",
       "        vertical-align: middle;\n",
       "    }\n",
       "\n",
       "    .dataframe tbody tr th {\n",
       "        vertical-align: top;\n",
       "    }\n",
       "\n",
       "    .dataframe thead th {\n",
       "        text-align: right;\n",
       "    }\n",
       "</style>\n",
       "<table border=\"1\" class=\"dataframe\">\n",
       "  <thead>\n",
       "    <tr style=\"text-align: right;\">\n",
       "      <th></th>\n",
       "      <th>y</th>\n",
       "    </tr>\n",
       "    <tr>\n",
       "      <th>ds</th>\n",
       "      <th></th>\n",
       "    </tr>\n",
       "  </thead>\n",
       "  <tbody>\n",
       "    <tr>\n",
       "      <th>2019-05-01</th>\n",
       "      <td>51.245850</td>\n",
       "    </tr>\n",
       "    <tr>\n",
       "      <th>2019-05-02</th>\n",
       "      <td>50.912350</td>\n",
       "    </tr>\n",
       "    <tr>\n",
       "      <th>2019-05-03</th>\n",
       "      <td>51.545261</td>\n",
       "    </tr>\n",
       "    <tr>\n",
       "      <th>2019-05-06</th>\n",
       "      <td>50.749268</td>\n",
       "    </tr>\n",
       "    <tr>\n",
       "      <th>2019-05-07</th>\n",
       "      <td>49.381207</td>\n",
       "    </tr>\n",
       "    <tr>\n",
       "      <th>...</th>\n",
       "      <td>...</td>\n",
       "    </tr>\n",
       "    <tr>\n",
       "      <th>2021-12-27</th>\n",
       "      <td>180.100540</td>\n",
       "    </tr>\n",
       "    <tr>\n",
       "      <th>2021-12-28</th>\n",
       "      <td>179.061859</td>\n",
       "    </tr>\n",
       "    <tr>\n",
       "      <th>2021-12-29</th>\n",
       "      <td>179.151749</td>\n",
       "    </tr>\n",
       "    <tr>\n",
       "      <th>2021-12-30</th>\n",
       "      <td>177.973251</td>\n",
       "    </tr>\n",
       "    <tr>\n",
       "      <th>2021-12-31</th>\n",
       "      <td>177.344055</td>\n",
       "    </tr>\n",
       "  </tbody>\n",
       "</table>\n",
       "<p>675 rows × 1 columns</p>\n",
       "</div>"
      ],
      "text/plain": [
       "                     y\n",
       "ds                    \n",
       "2019-05-01   51.245850\n",
       "2019-05-02   50.912350\n",
       "2019-05-03   51.545261\n",
       "2019-05-06   50.749268\n",
       "2019-05-07   49.381207\n",
       "...                ...\n",
       "2021-12-27  180.100540\n",
       "2021-12-28  179.061859\n",
       "2021-12-29  179.151749\n",
       "2021-12-30  177.973251\n",
       "2021-12-31  177.344055\n",
       "\n",
       "[675 rows x 1 columns]"
      ]
     },
     "execution_count": 42,
     "metadata": {},
     "output_type": "execute_result"
    }
   ],
   "source": [
    "df_"
   ]
  },
  {
   "cell_type": "markdown",
   "metadata": {},
   "source": [
    "##### Seasonality"
   ]
  },
  {
   "cell_type": "code",
   "execution_count": 46,
   "metadata": {},
   "outputs": [],
   "source": [
    "df_= pd.DataFrame(df_)"
   ]
  },
  {
   "cell_type": "code",
   "execution_count": 48,
   "metadata": {},
   "outputs": [],
   "source": [
    "decomposition = sm.tsa.seasonal_decompose(df_, model='additive',freq =20)"
   ]
  },
  {
   "cell_type": "code",
   "execution_count": 56,
   "metadata": {},
   "outputs": [
    {
     "name": "stdout",
     "output_type": "stream",
     "text": [
      "AAPL\n"
     ]
    },
    {
     "data": {
      "image/png": "[encoded data removed]",
      "text/plain": [
       "<Figure size 792x648 with 4 Axes>"
      ]
     },
     "metadata": {
      "needs_background": "light"
     },
     "output_type": "display_data"
    },
    {
     "name": "stdout",
     "output_type": "stream",
     "text": [
      "GOOGL\n"
     ]
    },
    {
     "data": {
      "image/png": "[encoded data removed]",
      "text/plain": [
       "<Figure size 792x648 with 4 Axes>"
      ]
     },
     "metadata": {
      "needs_background": "light"
     },
     "output_type": "display_data"
    }
   ],
   "source": [
    "from pylab import rcParams\n",
    "rcParams['figure.figsize'] = 11, 9\n",
    "\n",
    "\n",
    "for symbol in df.Symbols.unique():\n",
    "    print(symbol)\n",
    "    df_ = df_viz[df_viz.Symbols==symbol]\n",
    "    df_ = df_[['y']]\n",
    "    \n",
    "    decomposition = sm.tsa.seasonal_decompose(df_, model='additive',freq=10)\n",
    "    fig = decomposition.plot()\n",
    "    plt.show()"
   ]
  },
  {
   "cell_type": "markdown",
   "metadata": {},
   "source": [
    "There is a strong seasonal component\n",
    "\n",
    "The stocks also show a increasing trend, therefore the series is not stationary. \n",
    "\n",
    "If we are to use parametric method we need to detrend the series, so that we can fit the stationary model\n"
   ]
  },
  {
   "cell_type": "markdown",
   "metadata": {},
   "source": [
    "### Model Training\n",
    "\n",
    "We tested 2 Models:\n",
    "1. Facebook Prophet:\n",
    "   The model was good especially capturing the seasonality part of the series, though it was not able to adjust to quick changes on the trend therefore leading to high errors in such instances\n",
    "   \n",
    "   \n",
    "2. Randomforest Regressor. It was able to capture the pattern especially when we added the time features. The out of box model with just a sligt increase of the number of trees from 100 to 120, was able to meet the set target of about 5% errror rate.\n",
    "\n",
    "\n",
    "NB We therefore use the RandomForest regressor as the final model."
   ]
  },
  {
   "cell_type": "code",
   "execution_count": 57,
   "metadata": {},
   "outputs": [],
   "source": [
    "### Fit a prophet model"
   ]
  },
  {
   "cell_type": "code",
   "execution_count": 394,
   "metadata": {},
   "outputs": [],
   "source": [
    "df_train = df[df.Symbols=='BAC']"
   ]
  },
  {
   "cell_type": "code",
   "execution_count": 559,
   "metadata": {},
   "outputs": [],
   "source": [
    "def model_build():\n",
    "\n",
    "    model= Prophet(seasonality_mode='additive')\n",
    "   \n",
    "    return model\n",
    "model = model_build()"
   ]
  },
  {
   "cell_type": "code",
   "execution_count": 560,
   "metadata": {},
   "outputs": [],
   "source": [
    "def split_data(test_size, df):\n",
    "    \"\"\"\n",
    "    Split data into training and testing sets\n",
    "    INPUT:\n",
    "    test_size - size of testing data in ratio (default = 0.2)\n",
    "    df - cleaned and processed dataframe\n",
    "    OUTPUT:\n",
    "    train - training data set\n",
    "    test - testing data set\n",
    "\n",
    "    \"\"\"\n",
    "    \n",
    "#     test_size = test_size\n",
    "#     training_size = 1 - test_size\n",
    "\n",
    "#     test_num = int(test_size * len(df))\n",
    "#     train_num = int(training_size * len(df))\n",
    "\n",
    "    train_size = len(df)-test_size\n",
    "    train = df[:train_size].drop(columns= ['Symbols'])\n",
    "    test = df[train_size:].drop(columns= ['Symbols'])\n",
    "    \n",
    "\n",
    "    return train, test "
   ]
  },
  {
   "cell_type": "code",
   "execution_count": 443,
   "metadata": {},
   "outputs": [],
   "source": [
    "train, test  =split_data(30,df_train)"
   ]
  },
  {
   "cell_type": "code",
   "execution_count": 444,
   "metadata": {},
   "outputs": [],
   "source": [
    "#"
   ]
  },
  {
   "cell_type": "code",
   "execution_count": 445,
   "metadata": {},
   "outputs": [
    {
     "name": "stderr",
     "output_type": "stream",
     "text": [
      "INFO:prophet:Disabling daily seasonality. Run prophet with daily_seasonality=True to override this.\n"
     ]
    },
    {
     "data": {
      "text/plain": [
       "<prophet.forecaster.Prophet at 0x142385940>"
      ]
     },
     "execution_count": 445,
     "metadata": {},
     "output_type": "execute_result"
    }
   ],
   "source": [
    "model.fit(train)"
   ]
  },
  {
   "cell_type": "code",
   "execution_count": 446,
   "metadata": {},
   "outputs": [],
   "source": [
    " df_pred = model.predict(test)"
   ]
  },
  {
   "cell_type": "code",
   "execution_count": 561,
   "metadata": {},
   "outputs": [],
   "source": [
    "def evalute_model(test):\n",
    "        df_pred = model.predict(test)\n",
    "        df_pred =pd.merge(df_pred,test,on='ds',how = 'inner')\n",
    "        df_pred = df_pred[['ds','yhat','y']]\n",
    "        mape = abs(df_pred['yhat']-df_pred['y'])/df_pred['y']*100\n",
    "        df_pred['mean_absolute_error'] = mape\n",
    "        avg_mape = round(df_pred.mean_absolute_error.mean())\n",
    "        #print('mean error for the period {}%'.format(avg_mape))\n",
    "        return df_pred,avg_mape\n",
    "\n",
    "\n",
    "#df_pred,avg_mape = evalute_model(test)  "
   ]
  },
  {
   "cell_type": "code",
   "execution_count": 427,
   "metadata": {},
   "outputs": [
    {
     "name": "stderr",
     "output_type": "stream",
     "text": [
      "/Users/dgitahi/anaconda3/lib/python3.6/site-packages/ipykernel_launcher.py:11: FutureWarning:\n",
      "\n",
      "Series.dt.weekofyear and Series.dt.week have been deprecated.  Please use Series.dt.isocalendar().week instead.\n",
      "\n"
     ]
    }
   ],
   "source": [
    "df = load_data(['GOOGL','AAPL','BAC','ORCL','MSFT'],'2019-05-01','2022-01-01')\n",
    "df = create_time_features(df)"
   ]
  },
  {
   "cell_type": "code",
   "execution_count": 564,
   "metadata": {},
   "outputs": [
    {
     "name": "stderr",
     "output_type": "stream",
     "text": [
      "INFO:prophet:Disabling daily seasonality. Run prophet with daily_seasonality=True to override this.\n",
      "INFO:prophet:Disabling daily seasonality. Run prophet with daily_seasonality=True to override this.\n",
      "INFO:prophet:Disabling daily seasonality. Run prophet with daily_seasonality=True to override this.\n",
      "INFO:prophet:Disabling daily seasonality. Run prophet with daily_seasonality=True to override this.\n",
      "INFO:prophet:Disabling daily seasonality. Run prophet with daily_seasonality=True to override this.\n"
     ]
    },
    {
     "data": {
      "text/html": [
       "<div>\n",
       "<style scoped>\n",
       "    .dataframe tbody tr th:only-of-type {\n",
       "        vertical-align: middle;\n",
       "    }\n",
       "\n",
       "    .dataframe tbody tr th {\n",
       "        vertical-align: top;\n",
       "    }\n",
       "\n",
       "    .dataframe thead th {\n",
       "        text-align: right;\n",
       "    }\n",
       "</style>\n",
       "<table border=\"1\" class=\"dataframe\">\n",
       "  <thead>\n",
       "    <tr style=\"text-align: right;\">\n",
       "      <th></th>\n",
       "      <th>Symbol</th>\n",
       "      <th>Error</th>\n",
       "    </tr>\n",
       "  </thead>\n",
       "  <tbody>\n",
       "    <tr>\n",
       "      <th>0</th>\n",
       "      <td>AAPL</td>\n",
       "      <td>4</td>\n",
       "    </tr>\n",
       "    <tr>\n",
       "      <th>1</th>\n",
       "      <td>MSFT</td>\n",
       "      <td>2</td>\n",
       "    </tr>\n",
       "    <tr>\n",
       "      <th>2</th>\n",
       "      <td>GOOGL</td>\n",
       "      <td>1</td>\n",
       "    </tr>\n",
       "    <tr>\n",
       "      <th>3</th>\n",
       "      <td>BAC</td>\n",
       "      <td>7</td>\n",
       "    </tr>\n",
       "    <tr>\n",
       "      <th>4</th>\n",
       "      <td>ORCL</td>\n",
       "      <td>11</td>\n",
       "    </tr>\n",
       "  </tbody>\n",
       "</table>\n",
       "</div>"
      ],
      "text/plain": [
       "  Symbol  Error\n",
       "0   AAPL      4\n",
       "1   MSFT      2\n",
       "2  GOOGL      1\n",
       "3    BAC      7\n",
       "4   ORCL     11"
      ]
     },
     "execution_count": 564,
     "metadata": {},
     "output_type": "execute_result"
    }
   ],
   "source": [
    "error = []\n",
    "symbols = df.Symbols.unique()\n",
    "for symbol in symbols:\n",
    "    df_train = df[df.Symbols==symbol]\n",
    "    \n",
    "    model = model_build()\n",
    "    \n",
    "    train, test  =split_data(7,df_train)\n",
    "    model.fit(train)\n",
    "    df_pred = model.predict(test)\n",
    "    \n",
    "    df_pred,avg_mape = evalute_model(test)\n",
    "    error.append(avg_mape)\n",
    "    \n",
    "pd.DataFrame({'Symbol':symbols,'Error':error}) "
   ]
  },
  {
   "cell_type": "markdown",
   "metadata": {},
   "source": [
    "#### ADDING TIME FEATURES TO THE MODEL"
   ]
  },
  {
   "cell_type": "code",
   "execution_count": 474,
   "metadata": {},
   "outputs": [],
   "source": [
    "def model_build():\n",
    "    model = Prophet(seasonality_mode='additive')\n",
    "    model.add_regressor('dayofweek')\n",
    "    #model.add_regressor('quarter')\n",
    "    #model.add_regressor('month')\n",
    "    model.add_regressor('year')\n",
    "    #model.add_regressor('dayofyear')\n",
    "    model.add_regressor('sin_day')\n",
    "    model.add_regressor('cos_day')\n",
    "    model.add_regressor('weekofyear')\n",
    "\n",
    "    return model"
   ]
  },
  {
   "cell_type": "code",
   "execution_count": 58,
   "metadata": {},
   "outputs": [
    {
     "ename": "NameError",
     "evalue": "name 'model_build' is not defined",
     "output_type": "error",
     "traceback": [
      "\u001b[0;31m---------------------------------------------------------------------------\u001b[0m",
      "\u001b[0;31mNameError\u001b[0m                                 Traceback (most recent call last)",
      "\u001b[0;32m<ipython-input-58-6e504113e1be>\u001b[0m in \u001b[0;36m<module>\u001b[0;34m\u001b[0m\n\u001b[1;32m      4\u001b[0m     \u001b[0mdf_train\u001b[0m \u001b[0;34m=\u001b[0m \u001b[0mdf\u001b[0m\u001b[0;34m[\u001b[0m\u001b[0mdf\u001b[0m\u001b[0;34m.\u001b[0m\u001b[0mSymbols\u001b[0m\u001b[0;34m==\u001b[0m\u001b[0msymbol\u001b[0m\u001b[0;34m]\u001b[0m\u001b[0;34m\u001b[0m\u001b[0;34m\u001b[0m\u001b[0m\n\u001b[1;32m      5\u001b[0m \u001b[0;34m\u001b[0m\u001b[0m\n\u001b[0;32m----> 6\u001b[0;31m     \u001b[0mmodel\u001b[0m \u001b[0;34m=\u001b[0m \u001b[0mmodel_build\u001b[0m\u001b[0;34m(\u001b[0m\u001b[0;34m)\u001b[0m\u001b[0;34m\u001b[0m\u001b[0;34m\u001b[0m\u001b[0m\n\u001b[0m\u001b[1;32m      7\u001b[0m \u001b[0;34m\u001b[0m\u001b[0m\n\u001b[1;32m      8\u001b[0m     \u001b[0mtrain\u001b[0m\u001b[0;34m,\u001b[0m \u001b[0mtest\u001b[0m  \u001b[0;34m=\u001b[0m\u001b[0msplit_data\u001b[0m\u001b[0;34m(\u001b[0m\u001b[0;36m7\u001b[0m\u001b[0;34m,\u001b[0m\u001b[0mdf_train\u001b[0m\u001b[0;34m)\u001b[0m\u001b[0;34m\u001b[0m\u001b[0;34m\u001b[0m\u001b[0m\n",
      "\u001b[0;31mNameError\u001b[0m: name 'model_build' is not defined"
     ]
    }
   ],
   "source": [
    "error = []\n",
    "symbols = df.Symbols.unique()\n",
    "for symbol in symbols:\n",
    "    df_train = df[df.Symbols==symbol]\n",
    "    \n",
    "    model = model_build()\n",
    "    \n",
    "    train, test  =split_data(7,df_train)\n",
    "    model.fit(train)\n",
    "    df_pred = model.predict(test)\n",
    "    \n",
    "    df_pred,avg_mape = evalute_model(test)\n",
    "    error.append(avg_mape)\n",
    "    \n",
    "pd.DataFrame({'Symbol':symbols,'Error':error})"
   ]
  },
  {
   "cell_type": "code",
   "execution_count": 436,
   "metadata": {},
   "outputs": [
    {
     "data": {
      "text/html": [
       "<div>\n",
       "<style scoped>\n",
       "    .dataframe tbody tr th:only-of-type {\n",
       "        vertical-align: middle;\n",
       "    }\n",
       "\n",
       "    .dataframe tbody tr th {\n",
       "        vertical-align: top;\n",
       "    }\n",
       "\n",
       "    .dataframe thead th {\n",
       "        text-align: right;\n",
       "    }\n",
       "</style>\n",
       "<table border=\"1\" class=\"dataframe\">\n",
       "  <thead>\n",
       "    <tr style=\"text-align: right;\">\n",
       "      <th></th>\n",
       "      <th>ds</th>\n",
       "      <th>Symbols</th>\n",
       "      <th>y</th>\n",
       "      <th>dayofweek</th>\n",
       "      <th>quarter</th>\n",
       "      <th>month</th>\n",
       "      <th>year</th>\n",
       "      <th>dayofyear</th>\n",
       "      <th>sin_day</th>\n",
       "      <th>cos_day</th>\n",
       "      <th>dayofmonth</th>\n",
       "      <th>weekofyear</th>\n",
       "    </tr>\n",
       "  </thead>\n",
       "  <tbody>\n",
       "    <tr>\n",
       "      <th>1</th>\n",
       "      <td>2019-05-01</td>\n",
       "      <td>AAPL</td>\n",
       "      <td>51.245846</td>\n",
       "      <td>2</td>\n",
       "      <td>2</td>\n",
       "      <td>5</td>\n",
       "      <td>2019</td>\n",
       "      <td>121</td>\n",
       "      <td>0.998815</td>\n",
       "      <td>-0.048664</td>\n",
       "      <td>1</td>\n",
       "      <td>18</td>\n",
       "    </tr>\n",
       "    <tr>\n",
       "      <th>4</th>\n",
       "      <td>2019-05-01</td>\n",
       "      <td>MSFT</td>\n",
       "      <td>123.931053</td>\n",
       "      <td>2</td>\n",
       "      <td>2</td>\n",
       "      <td>5</td>\n",
       "      <td>2019</td>\n",
       "      <td>121</td>\n",
       "      <td>0.998815</td>\n",
       "      <td>-0.048664</td>\n",
       "      <td>1</td>\n",
       "      <td>18</td>\n",
       "    </tr>\n",
       "    <tr>\n",
       "      <th>0</th>\n",
       "      <td>2019-05-01</td>\n",
       "      <td>GOOGL</td>\n",
       "      <td>1173.319946</td>\n",
       "      <td>2</td>\n",
       "      <td>2</td>\n",
       "      <td>5</td>\n",
       "      <td>2019</td>\n",
       "      <td>121</td>\n",
       "      <td>0.998815</td>\n",
       "      <td>-0.048664</td>\n",
       "      <td>1</td>\n",
       "      <td>18</td>\n",
       "    </tr>\n",
       "    <tr>\n",
       "      <th>2</th>\n",
       "      <td>2019-05-01</td>\n",
       "      <td>BAC</td>\n",
       "      <td>28.414230</td>\n",
       "      <td>2</td>\n",
       "      <td>2</td>\n",
       "      <td>5</td>\n",
       "      <td>2019</td>\n",
       "      <td>121</td>\n",
       "      <td>0.998815</td>\n",
       "      <td>-0.048664</td>\n",
       "      <td>1</td>\n",
       "      <td>18</td>\n",
       "    </tr>\n",
       "    <tr>\n",
       "      <th>3</th>\n",
       "      <td>2019-05-01</td>\n",
       "      <td>ORCL</td>\n",
       "      <td>52.468845</td>\n",
       "      <td>2</td>\n",
       "      <td>2</td>\n",
       "      <td>5</td>\n",
       "      <td>2019</td>\n",
       "      <td>121</td>\n",
       "      <td>0.998815</td>\n",
       "      <td>-0.048664</td>\n",
       "      <td>1</td>\n",
       "      <td>18</td>\n",
       "    </tr>\n",
       "    <tr>\n",
       "      <th>...</th>\n",
       "      <td>...</td>\n",
       "      <td>...</td>\n",
       "      <td>...</td>\n",
       "      <td>...</td>\n",
       "      <td>...</td>\n",
       "      <td>...</td>\n",
       "      <td>...</td>\n",
       "      <td>...</td>\n",
       "      <td>...</td>\n",
       "      <td>...</td>\n",
       "      <td>...</td>\n",
       "      <td>...</td>\n",
       "    </tr>\n",
       "    <tr>\n",
       "      <th>3372</th>\n",
       "      <td>2021-12-31</td>\n",
       "      <td>BAC</td>\n",
       "      <td>44.490002</td>\n",
       "      <td>4</td>\n",
       "      <td>4</td>\n",
       "      <td>12</td>\n",
       "      <td>2021</td>\n",
       "      <td>365</td>\n",
       "      <td>0.544046</td>\n",
       "      <td>0.839055</td>\n",
       "      <td>31</td>\n",
       "      <td>52</td>\n",
       "    </tr>\n",
       "    <tr>\n",
       "      <th>3370</th>\n",
       "      <td>2021-12-31</td>\n",
       "      <td>GOOGL</td>\n",
       "      <td>2897.040039</td>\n",
       "      <td>4</td>\n",
       "      <td>4</td>\n",
       "      <td>12</td>\n",
       "      <td>2021</td>\n",
       "      <td>365</td>\n",
       "      <td>0.544046</td>\n",
       "      <td>0.839055</td>\n",
       "      <td>31</td>\n",
       "      <td>52</td>\n",
       "    </tr>\n",
       "    <tr>\n",
       "      <th>3374</th>\n",
       "      <td>2021-12-31</td>\n",
       "      <td>MSFT</td>\n",
       "      <td>335.626038</td>\n",
       "      <td>4</td>\n",
       "      <td>4</td>\n",
       "      <td>12</td>\n",
       "      <td>2021</td>\n",
       "      <td>365</td>\n",
       "      <td>0.544046</td>\n",
       "      <td>0.839055</td>\n",
       "      <td>31</td>\n",
       "      <td>52</td>\n",
       "    </tr>\n",
       "    <tr>\n",
       "      <th>3371</th>\n",
       "      <td>2021-12-31</td>\n",
       "      <td>AAPL</td>\n",
       "      <td>177.344055</td>\n",
       "      <td>4</td>\n",
       "      <td>4</td>\n",
       "      <td>12</td>\n",
       "      <td>2021</td>\n",
       "      <td>365</td>\n",
       "      <td>0.544046</td>\n",
       "      <td>0.839055</td>\n",
       "      <td>31</td>\n",
       "      <td>52</td>\n",
       "    </tr>\n",
       "    <tr>\n",
       "      <th>3373</th>\n",
       "      <td>2021-12-31</td>\n",
       "      <td>ORCL</td>\n",
       "      <td>86.887222</td>\n",
       "      <td>4</td>\n",
       "      <td>4</td>\n",
       "      <td>12</td>\n",
       "      <td>2021</td>\n",
       "      <td>365</td>\n",
       "      <td>0.544046</td>\n",
       "      <td>0.839055</td>\n",
       "      <td>31</td>\n",
       "      <td>52</td>\n",
       "    </tr>\n",
       "  </tbody>\n",
       "</table>\n",
       "<p>3375 rows × 12 columns</p>\n",
       "</div>"
      ],
      "text/plain": [
       "             ds Symbols            y  dayofweek  quarter  month  year  \\\n",
       "1    2019-05-01    AAPL    51.245846          2        2      5  2019   \n",
       "4    2019-05-01    MSFT   123.931053          2        2      5  2019   \n",
       "0    2019-05-01   GOOGL  1173.319946          2        2      5  2019   \n",
       "2    2019-05-01     BAC    28.414230          2        2      5  2019   \n",
       "3    2019-05-01    ORCL    52.468845          2        2      5  2019   \n",
       "...         ...     ...          ...        ...      ...    ...   ...   \n",
       "3372 2021-12-31     BAC    44.490002          4        4     12  2021   \n",
       "3370 2021-12-31   GOOGL  2897.040039          4        4     12  2021   \n",
       "3374 2021-12-31    MSFT   335.626038          4        4     12  2021   \n",
       "3371 2021-12-31    AAPL   177.344055          4        4     12  2021   \n",
       "3373 2021-12-31    ORCL    86.887222          4        4     12  2021   \n",
       "\n",
       "      dayofyear   sin_day   cos_day  dayofmonth  weekofyear  \n",
       "1           121  0.998815 -0.048664           1          18  \n",
       "4           121  0.998815 -0.048664           1          18  \n",
       "0           121  0.998815 -0.048664           1          18  \n",
       "2           121  0.998815 -0.048664           1          18  \n",
       "3           121  0.998815 -0.048664           1          18  \n",
       "...         ...       ...       ...         ...         ...  \n",
       "3372        365  0.544046  0.839055          31          52  \n",
       "3370        365  0.544046  0.839055          31          52  \n",
       "3374        365  0.544046  0.839055          31          52  \n",
       "3371        365  0.544046  0.839055          31          52  \n",
       "3373        365  0.544046  0.839055          31          52  \n",
       "\n",
       "[3375 rows x 12 columns]"
      ]
     },
     "execution_count": 436,
     "metadata": {},
     "output_type": "execute_result"
    }
   ],
   "source": [
    "df"
   ]
  },
  {
   "cell_type": "markdown",
   "metadata": {},
   "source": [
    "### iterating on the Change point Prior and  and Seasonality Prior"
   ]
  },
  {
   "cell_type": "code",
   "execution_count": 437,
   "metadata": {},
   "outputs": [
    {
     "name": "stderr",
     "output_type": "stream",
     "text": [
      "INFO:prophet:Disabling daily seasonality. Run prophet with daily_seasonality=True to override this.\n",
      "INFO:prophet:Applying in parallel with <concurrent.futures.process.ProcessPoolExecutor object at 0x1433cb128>\n",
      "INFO:prophet:Disabling daily seasonality. Run prophet with daily_seasonality=True to override this.\n",
      "INFO:prophet:Applying in parallel with <concurrent.futures.process.ProcessPoolExecutor object at 0x140dd1a58>\n",
      "INFO:prophet:Disabling daily seasonality. Run prophet with daily_seasonality=True to override this.\n",
      "INFO:prophet:Applying in parallel with <concurrent.futures.process.ProcessPoolExecutor object at 0x140c2aeb8>\n",
      "INFO:prophet:Disabling daily seasonality. Run prophet with daily_seasonality=True to override this.\n",
      "INFO:prophet:Applying in parallel with <concurrent.futures.process.ProcessPoolExecutor object at 0x14102e400>\n",
      "INFO:prophet:Disabling daily seasonality. Run prophet with daily_seasonality=True to override this.\n",
      "INFO:prophet:Applying in parallel with <concurrent.futures.process.ProcessPoolExecutor object at 0x1433cb438>\n",
      "INFO:prophet:Disabling daily seasonality. Run prophet with daily_seasonality=True to override this.\n",
      "INFO:prophet:Applying in parallel with <concurrent.futures.process.ProcessPoolExecutor object at 0x140ebffd0>\n",
      "INFO:prophet:Disabling daily seasonality. Run prophet with daily_seasonality=True to override this.\n",
      "INFO:prophet:Applying in parallel with <concurrent.futures.process.ProcessPoolExecutor object at 0x140dd19e8>\n",
      "INFO:prophet:Disabling daily seasonality. Run prophet with daily_seasonality=True to override this.\n",
      "INFO:prophet:Applying in parallel with <concurrent.futures.process.ProcessPoolExecutor object at 0x1402cbac8>\n",
      "INFO:prophet:Disabling daily seasonality. Run prophet with daily_seasonality=True to override this.\n",
      "INFO:prophet:Applying in parallel with <concurrent.futures.process.ProcessPoolExecutor object at 0x1433cb1d0>\n",
      "INFO:prophet:Disabling daily seasonality. Run prophet with daily_seasonality=True to override this.\n",
      "INFO:prophet:Applying in parallel with <concurrent.futures.process.ProcessPoolExecutor object at 0x1402cb630>\n",
      "INFO:prophet:Disabling daily seasonality. Run prophet with daily_seasonality=True to override this.\n",
      "INFO:prophet:Applying in parallel with <concurrent.futures.process.ProcessPoolExecutor object at 0x14102e278>\n",
      "INFO:prophet:Disabling daily seasonality. Run prophet with daily_seasonality=True to override this.\n",
      "INFO:prophet:Applying in parallel with <concurrent.futures.process.ProcessPoolExecutor object at 0x1433cb470>\n",
      "INFO:prophet:Disabling daily seasonality. Run prophet with daily_seasonality=True to override this.\n",
      "INFO:prophet:Applying in parallel with <concurrent.futures.process.ProcessPoolExecutor object at 0x1402cba90>\n",
      "INFO:prophet:Disabling daily seasonality. Run prophet with daily_seasonality=True to override this.\n",
      "INFO:prophet:Applying in parallel with <concurrent.futures.process.ProcessPoolExecutor object at 0x140dd1b00>\n",
      "INFO:prophet:Disabling daily seasonality. Run prophet with daily_seasonality=True to override this.\n",
      "INFO:prophet:Applying in parallel with <concurrent.futures.process.ProcessPoolExecutor object at 0x1402cb400>\n",
      "INFO:prophet:Disabling daily seasonality. Run prophet with daily_seasonality=True to override this.\n",
      "INFO:prophet:Applying in parallel with <concurrent.futures.process.ProcessPoolExecutor object at 0x140ebfb38>\n",
      "INFO:prophet:Disabling daily seasonality. Run prophet with daily_seasonality=True to override this.\n",
      "INFO:prophet:Applying in parallel with <concurrent.futures.process.ProcessPoolExecutor object at 0x140dd17b8>\n",
      "INFO:prophet:Disabling daily seasonality. Run prophet with daily_seasonality=True to override this.\n",
      "INFO:prophet:Applying in parallel with <concurrent.futures.process.ProcessPoolExecutor object at 0x140ebf048>\n",
      "INFO:prophet:Disabling daily seasonality. Run prophet with daily_seasonality=True to override this.\n",
      "INFO:prophet:Applying in parallel with <concurrent.futures.process.ProcessPoolExecutor object at 0x1426eea58>\n",
      "INFO:prophet:Disabling daily seasonality. Run prophet with daily_seasonality=True to override this.\n",
      "INFO:prophet:Applying in parallel with <concurrent.futures.process.ProcessPoolExecutor object at 0x1426eedd8>\n",
      "INFO:prophet:Disabling daily seasonality. Run prophet with daily_seasonality=True to override this.\n",
      "INFO:prophet:Applying in parallel with <concurrent.futures.process.ProcessPoolExecutor object at 0x1426ee588>\n",
      "INFO:prophet:Disabling daily seasonality. Run prophet with daily_seasonality=True to override this.\n",
      "INFO:prophet:Applying in parallel with <concurrent.futures.process.ProcessPoolExecutor object at 0x1433cb940>\n",
      "INFO:prophet:Disabling daily seasonality. Run prophet with daily_seasonality=True to override this.\n",
      "INFO:prophet:Applying in parallel with <concurrent.futures.process.ProcessPoolExecutor object at 0x140ebf860>\n",
      "INFO:prophet:Disabling daily seasonality. Run prophet with daily_seasonality=True to override this.\n",
      "INFO:prophet:Applying in parallel with <concurrent.futures.process.ProcessPoolExecutor object at 0x140c2add8>\n",
      "INFO:prophet:Disabling daily seasonality. Run prophet with daily_seasonality=True to override this.\n",
      "INFO:prophet:Applying in parallel with <concurrent.futures.process.ProcessPoolExecutor object at 0x14102ea90>\n",
      "INFO:prophet:Disabling daily seasonality. Run prophet with daily_seasonality=True to override this.\n",
      "INFO:prophet:Applying in parallel with <concurrent.futures.process.ProcessPoolExecutor object at 0x140dd1978>\n",
      "INFO:prophet:Disabling daily seasonality. Run prophet with daily_seasonality=True to override this.\n",
      "INFO:prophet:Applying in parallel with <concurrent.futures.process.ProcessPoolExecutor object at 0x140c2aeb8>\n",
      "INFO:prophet:Disabling daily seasonality. Run prophet with daily_seasonality=True to override this.\n",
      "INFO:prophet:Applying in parallel with <concurrent.futures.process.ProcessPoolExecutor object at 0x1402cba90>\n",
      "INFO:prophet:Disabling daily seasonality. Run prophet with daily_seasonality=True to override this.\n",
      "INFO:prophet:Applying in parallel with <concurrent.futures.process.ProcessPoolExecutor object at 0x1402cbac8>\n",
      "INFO:prophet:Disabling daily seasonality. Run prophet with daily_seasonality=True to override this.\n",
      "INFO:prophet:Applying in parallel with <concurrent.futures.process.ProcessPoolExecutor object at 0x140ebf390>\n",
      "INFO:prophet:Disabling daily seasonality. Run prophet with daily_seasonality=True to override this.\n",
      "INFO:prophet:Applying in parallel with <concurrent.futures.process.ProcessPoolExecutor object at 0x1433cba58>\n",
      "INFO:prophet:Disabling daily seasonality. Run prophet with daily_seasonality=True to override this.\n",
      "INFO:prophet:Applying in parallel with <concurrent.futures.process.ProcessPoolExecutor object at 0x140c2aeb8>\n",
      "INFO:prophet:Disabling daily seasonality. Run prophet with daily_seasonality=True to override this.\n",
      "INFO:prophet:Applying in parallel with <concurrent.futures.process.ProcessPoolExecutor object at 0x1402cba90>\n",
      "INFO:prophet:Disabling daily seasonality. Run prophet with daily_seasonality=True to override this.\n",
      "INFO:prophet:Applying in parallel with <concurrent.futures.process.ProcessPoolExecutor object at 0x140dd1f98>\n",
      "INFO:prophet:Disabling daily seasonality. Run prophet with daily_seasonality=True to override this.\n",
      "INFO:prophet:Applying in parallel with <concurrent.futures.process.ProcessPoolExecutor object at 0x1433af3c8>\n",
      "INFO:prophet:Disabling daily seasonality. Run prophet with daily_seasonality=True to override this.\n",
      "INFO:prophet:Applying in parallel with <concurrent.futures.process.ProcessPoolExecutor object at 0x1410f6588>\n"
     ]
    },
    {
     "name": "stdout",
     "output_type": "stream",
     "text": [
      "    changepoint_prior_scale  seasonality_prior_scale seasonality_mode  \\\n",
      "0                     0.001                     0.01         additive   \n",
      "1                     0.001                     0.01   multiplicative   \n",
      "2                     0.001                     0.10         additive   \n",
      "3                     0.001                     0.10   multiplicative   \n",
      "4                     0.001                     0.50         additive   \n",
      "5                     0.001                     0.50   multiplicative   \n",
      "6                     0.001                     1.00         additive   \n",
      "7                     0.001                     1.00   multiplicative   \n",
      "8                     0.001                     5.00         additive   \n",
      "9                     0.001                     5.00   multiplicative   \n",
      "10                    0.001                    10.00         additive   \n",
      "11                    0.001                    10.00   multiplicative   \n",
      "12                    0.010                     0.01         additive   \n",
      "13                    0.010                     0.01   multiplicative   \n",
      "14                    0.010                     0.10         additive   \n",
      "15                    0.010                     0.10   multiplicative   \n",
      "16                    0.010                     0.50         additive   \n",
      "17                    0.010                     0.50   multiplicative   \n",
      "18                    0.010                     1.00         additive   \n",
      "19                    0.010                     1.00   multiplicative   \n",
      "20                    0.010                     5.00         additive   \n",
      "21                    0.010                     5.00   multiplicative   \n",
      "22                    0.010                    10.00         additive   \n",
      "23                    0.010                    10.00   multiplicative   \n",
      "24                    0.050                     0.01         additive   \n",
      "25                    0.050                     0.01   multiplicative   \n",
      "26                    0.050                     0.10         additive   \n",
      "27                    0.050                     0.10   multiplicative   \n",
      "28                    0.050                     0.50         additive   \n",
      "29                    0.050                     0.50   multiplicative   \n",
      "30                    0.050                     1.00         additive   \n",
      "31                    0.050                     1.00   multiplicative   \n",
      "32                    0.050                     5.00         additive   \n",
      "33                    0.050                     5.00   multiplicative   \n",
      "34                    0.050                    10.00         additive   \n",
      "35                    0.050                    10.00   multiplicative   \n",
      "\n",
      "       mapes  \n",
      "0   3.895235  \n",
      "1   3.988368  \n",
      "2   3.896801  \n",
      "3   3.996536  \n",
      "4   3.898358  \n",
      "5   3.996615  \n",
      "6   3.898006  \n",
      "7   3.996611  \n",
      "8   3.897589  \n",
      "9   3.996812  \n",
      "10  3.897455  \n",
      "11  3.996688  \n",
      "12  4.475972  \n",
      "13  4.539243  \n",
      "14  4.418130  \n",
      "15  4.485084  \n",
      "16  4.438807  \n",
      "17  4.512337  \n",
      "18  4.485919  \n",
      "19  4.493185  \n",
      "20  4.502105  \n",
      "21  4.508349  \n",
      "22  4.445637  \n",
      "23  4.538107  \n",
      "24  4.944238  \n",
      "25  4.968802  \n",
      "26  4.914235  \n",
      "27  4.846692  \n",
      "28  4.923365  \n",
      "29  4.832613  \n",
      "30  4.914810  \n",
      "31  4.839258  \n",
      "32  4.915972  \n",
      "33  4.812408  \n",
      "34  4.905471  \n",
      "35  4.820690  \n"
     ]
    }
   ],
   "source": [
    "cutoffs = pd.to_datetime(['2021-08-01', '2021-10-01','2021-11-01'])\n",
    "symbol ='ORCL'\n",
    "df_train = df[df.Symbols==symbol]\n",
    "df_train = df.drop(columns='Symbols')\n",
    "\n",
    "import itertools\n",
    "from prophet.diagnostics import performance_metrics\n",
    "\n",
    "from prophet.diagnostics import cross_validation\n",
    "\n",
    "param_grid = {  \n",
    "    'changepoint_prior_scale': [0.001, 0.01,0.05],\n",
    "    'seasonality_prior_scale':[0.01,0.1,0.5,1,5 ,10],\n",
    "    'seasonality_mode':['additive', 'multiplicative']\n",
    "    \n",
    "    \n",
    "}\n",
    "\n",
    "\n",
    "# Generate all combinations of parameters\n",
    "all_params = [dict(zip(param_grid.keys(), v)) for v in itertools.product(*param_grid.values())]\n",
    "mapes = []  # Store the RMSEs for each params here\n",
    "\n",
    "# Use cross validation to evaluate all parameters\n",
    "for params in all_params:\n",
    "    m = Prophet(**params)\n",
    "    #m.add_seasonality(name='weekly',period= 7,fourier_order= 5,prior_scale = 0.5)\n",
    "    m.fit(df_train)  # Fit model with given params\n",
    "    df_cv = cross_validation(m, cutoffs=cutoffs, horizon='30 days', parallel=\"processes\")\n",
    "    df_p = performance_metrics(df_cv, rolling_window=1)\n",
    "    mapes.append(df_p['mape'].values[0])\n",
    "\n",
    "# Find the best parameters\n",
    "tuning_results = pd.DataFrame(all_params)\n",
    "tuning_results['mapes'] = mapes\n",
    "print(tuning_results)"
   ]
  },
  {
   "cell_type": "code",
   "execution_count": 438,
   "metadata": {},
   "outputs": [
    {
     "name": "stdout",
     "output_type": "stream",
     "text": [
      "{'changepoint_prior_scale': 0.001, 'seasonality_prior_scale': 0.01, 'seasonality_mode': 'additive'}\n"
     ]
    }
   ],
   "source": [
    "best_params = all_params[np.argmin(mapes)]\n",
    "print(best_params)"
   ]
  },
  {
   "cell_type": "code",
   "execution_count": 472,
   "metadata": {},
   "outputs": [],
   "source": [
    "def model_build():\n",
    "    model = Prophet(seasonality_mode='additive',changepoint_prior_scale=0.001, seasonality_prior_scale= 0.01)\n",
    "    model.add_regressor('dayofweek')\n",
    "    model.add_regressor('quarter')\n",
    "    model.add_regressor('month')\n",
    "    model.add_regressor('year')\n",
    "    model.add_regressor('dayofyear')\n",
    "    model.add_regressor('sin_day')\n",
    "    model.add_regressor('cos_day')\n",
    "    #model.add_regressor('weekofyear')\n",
    "\n",
    "    return model"
   ]
  },
  {
   "cell_type": "code",
   "execution_count": 473,
   "metadata": {},
   "outputs": [
    {
     "name": "stderr",
     "output_type": "stream",
     "text": [
      "INFO:prophet:Disabling daily seasonality. Run prophet with daily_seasonality=True to override this.\n",
      "INFO:prophet:Disabling daily seasonality. Run prophet with daily_seasonality=True to override this.\n",
      "INFO:prophet:Disabling daily seasonality. Run prophet with daily_seasonality=True to override this.\n",
      "INFO:prophet:Disabling daily seasonality. Run prophet with daily_seasonality=True to override this.\n",
      "INFO:prophet:Disabling daily seasonality. Run prophet with daily_seasonality=True to override this.\n"
     ]
    },
    {
     "data": {
      "text/html": [
       "<div>\n",
       "<style scoped>\n",
       "    .dataframe tbody tr th:only-of-type {\n",
       "        vertical-align: middle;\n",
       "    }\n",
       "\n",
       "    .dataframe tbody tr th {\n",
       "        vertical-align: top;\n",
       "    }\n",
       "\n",
       "    .dataframe thead th {\n",
       "        text-align: right;\n",
       "    }\n",
       "</style>\n",
       "<table border=\"1\" class=\"dataframe\">\n",
       "  <thead>\n",
       "    <tr style=\"text-align: right;\">\n",
       "      <th></th>\n",
       "      <th>Symbol</th>\n",
       "      <th>Error</th>\n",
       "    </tr>\n",
       "  </thead>\n",
       "  <tbody>\n",
       "    <tr>\n",
       "      <th>0</th>\n",
       "      <td>AAPL</td>\n",
       "      <td>3</td>\n",
       "    </tr>\n",
       "    <tr>\n",
       "      <th>1</th>\n",
       "      <td>MSFT</td>\n",
       "      <td>10</td>\n",
       "    </tr>\n",
       "    <tr>\n",
       "      <th>2</th>\n",
       "      <td>GOOGL</td>\n",
       "      <td>9</td>\n",
       "    </tr>\n",
       "    <tr>\n",
       "      <th>3</th>\n",
       "      <td>BAC</td>\n",
       "      <td>11</td>\n",
       "    </tr>\n",
       "    <tr>\n",
       "      <th>4</th>\n",
       "      <td>ORCL</td>\n",
       "      <td>11</td>\n",
       "    </tr>\n",
       "  </tbody>\n",
       "</table>\n",
       "</div>"
      ],
      "text/plain": [
       "  Symbol  Error\n",
       "0   AAPL      3\n",
       "1   MSFT     10\n",
       "2  GOOGL      9\n",
       "3    BAC     11\n",
       "4   ORCL     11"
      ]
     },
     "execution_count": 473,
     "metadata": {},
     "output_type": "execute_result"
    }
   ],
   "source": [
    "error = []\n",
    "symbols = df.Symbols.unique()\n",
    "for symbol in symbols:\n",
    "    df_train = df[df.Symbols==symbol]\n",
    "    \n",
    "    model = model_build()\n",
    "    \n",
    "    train, test  =split_data(30,df_train)\n",
    "    model.fit(train)\n",
    "    df_pred = model.predict(test)\n",
    "    \n",
    "    df_pred,avg_mape = evalute_model(test)\n",
    "    error.append(avg_mape)\n",
    "    \n",
    "pd.DataFrame({'Symbol':symbols,'Error':error})"
   ]
  },
  {
   "cell_type": "markdown",
   "metadata": {},
   "source": [
    "### Model 2 "
   ]
  },
  {
   "cell_type": "code",
   "execution_count": 203,
   "metadata": {},
   "outputs": [],
   "source": [
    "def load_data(start_date,end_date,symbols):\n",
    "    \"\"\"the functions read data from the yahoo website.\n",
    "     and returns a dataframe\n",
    "     \n",
    "     Input: start date: date format\n",
    "            end date : date format\n",
    "            ticker: name of the stock: string\n",
    "     Output: df_prices: datafame that has the prices\"\"\"\n",
    "    df = data.DataReader(symbols,'yahoo',start_date,end_date)\n",
    "\n",
    "    df = pd.DataFrame(df)\n",
    "    df_base = df['Adj Close']\n",
    "       \n",
    "    df_base = df_base.stack()\n",
    "    \n",
    "    df_prices = pd.DataFrame(df_base)\n",
    "    df_prices.columns = ['y']\n",
    "    #print(df_prices)\n",
    "\n",
    "    df_prices.reset_index(inplace=True)\n",
    "    df_prices = df_prices.sort_values(by = ['Symbols','Date'])\n",
    "    df_prices.rename(columns = {'Date':'ds'},inplace = True)\n",
    "    \n",
    "    return df_prices"
   ]
  },
  {
   "cell_type": "code",
   "execution_count": 206,
   "metadata": {},
   "outputs": [],
   "source": [
    "###load data\n",
    "\n",
    "df = load_data('2019-05-01','2022-01-01',['GOOGL'])"
   ]
  },
  {
   "cell_type": "code",
   "execution_count": 266,
   "metadata": {},
   "outputs": [
    {
     "data": {
      "text/html": [
       "<div>\n",
       "<style scoped>\n",
       "    .dataframe tbody tr th:only-of-type {\n",
       "        vertical-align: middle;\n",
       "    }\n",
       "\n",
       "    .dataframe tbody tr th {\n",
       "        vertical-align: top;\n",
       "    }\n",
       "\n",
       "    .dataframe thead th {\n",
       "        text-align: right;\n",
       "    }\n",
       "</style>\n",
       "<table border=\"1\" class=\"dataframe\">\n",
       "  <thead>\n",
       "    <tr style=\"text-align: right;\">\n",
       "      <th></th>\n",
       "      <th>Adj Close</th>\n",
       "      <th>Symbols</th>\n",
       "    </tr>\n",
       "    <tr>\n",
       "      <th>Date</th>\n",
       "      <th></th>\n",
       "      <th></th>\n",
       "    </tr>\n",
       "  </thead>\n",
       "  <tbody>\n",
       "    <tr>\n",
       "      <th>2021-01-04</th>\n",
       "      <td>128.453445</td>\n",
       "      <td>GOOGL</td>\n",
       "    </tr>\n",
       "    <tr>\n",
       "      <th>2021-01-05</th>\n",
       "      <td>130.041626</td>\n",
       "      <td>GOOGL</td>\n",
       "    </tr>\n",
       "    <tr>\n",
       "      <th>2021-01-06</th>\n",
       "      <td>125.664207</td>\n",
       "      <td>GOOGL</td>\n",
       "    </tr>\n",
       "    <tr>\n",
       "      <th>2021-01-07</th>\n",
       "      <td>129.952286</td>\n",
       "      <td>GOOGL</td>\n",
       "    </tr>\n",
       "    <tr>\n",
       "      <th>2021-01-08</th>\n",
       "      <td>131.073944</td>\n",
       "      <td>GOOGL</td>\n",
       "    </tr>\n",
       "  </tbody>\n",
       "</table>\n",
       "</div>"
      ],
      "text/plain": [
       "             Adj Close Symbols\n",
       "Date                          \n",
       "2021-01-04  128.453445   GOOGL\n",
       "2021-01-05  130.041626   GOOGL\n",
       "2021-01-06  125.664207   GOOGL\n",
       "2021-01-07  129.952286   GOOGL\n",
       "2021-01-08  131.073944   GOOGL"
      ]
     },
     "execution_count": 266,
     "metadata": {},
     "output_type": "execute_result"
    }
   ],
   "source": [
    "df.head()"
   ]
  },
  {
   "cell_type": "code",
   "execution_count": 270,
   "metadata": {},
   "outputs": [
    {
     "data": {
      "text/plain": [
       "Date\n",
       "2021-01-04    1\n",
       "2021-01-05    1\n",
       "2021-01-06    1\n",
       "2021-01-07    1\n",
       "2021-01-08    1\n",
       "2021-01-11    2\n",
       "2021-01-12    2\n",
       "2021-01-13    2\n",
       "2021-01-14    2\n",
       "2021-01-15    2\n",
       "2021-01-19    3\n",
       "2021-01-20    3\n",
       "2021-01-21    3\n",
       "2021-01-22    3\n",
       "2021-01-25    4\n",
       "2021-01-26    4\n",
       "2021-01-27    4\n",
       "2021-01-28    4\n",
       "2021-01-29    4\n",
       "Name: week, dtype: UInt32"
      ]
     },
     "execution_count": 270,
     "metadata": {},
     "output_type": "execute_result"
    }
   ],
   "source": [
    "df.index.isocalendar().week"
   ]
  },
  {
   "cell_type": "code",
   "execution_count": 201,
   "metadata": {},
   "outputs": [
    {
     "name": "stderr",
     "output_type": "stream",
     "text": [
      "/Users/dgitahi/anaconda3/lib/python3.6/site-packages/ipykernel_launcher.py:11: FutureWarning:\n",
      "\n",
      "Series.dt.weekofyear and Series.dt.week have been deprecated.  Please use Series.dt.isocalendar().week instead.\n",
      "\n"
     ]
    }
   ],
   "source": [
    "###time features\n",
    "df = create_time_features(df)"
   ]
  },
  {
   "cell_type": "code",
   "execution_count": 200,
   "metadata": {},
   "outputs": [],
   "source": [
    "df_train = df[df.Symbols=='GOOGL']"
   ]
  },
  {
   "cell_type": "code",
   "execution_count": 187,
   "metadata": {},
   "outputs": [],
   "source": [
    "def split_data(test_size, df):\n",
    "    \"\"\"\n",
    "    Split data into training and testing sets\n",
    "    INPUT:\n",
    "    test_size - size of testing data in ratio (default = 0.2)\n",
    "    df - cleaned and processed dataframe\n",
    "    OUTPUT:\n",
    "    train - training data set\n",
    "    test - testing data set\n",
    "\n",
    "    \"\"\"\n",
    "    \n",
    "#     test_size = test_size\n",
    "#     training_size = 1 - test_size\n",
    "\n",
    "#     test_num = int(test_size * len(df))\n",
    "#     train_num = int(training_size * len(df))\n",
    "    df =df.set_index('ds')\n",
    "    #df.drop(columns = ['year','month','quarter'],inplace = True)\n",
    "\n",
    "    train_size = len(df)-test_size\n",
    "    train = df[:train_size].drop(columns= ['Symbols'])\n",
    "    test = df[train_size:].drop(columns= ['Symbols'])\n",
    "    \n",
    "    X_train=train.drop(columns='y')\n",
    "    X_test =test.drop(columns='y')\n",
    "    y_train = train['y']\n",
    "    y_test = test['y']\n",
    "    \n",
    "    \n",
    "\n",
    "    return X_train,y_train,X_test,y_test "
   ]
  },
  {
   "cell_type": "code",
   "execution_count": 188,
   "metadata": {},
   "outputs": [],
   "source": [
    "X_train,y_train,X_test,y_test =split_data_mdl2(7,df_train)"
   ]
  },
  {
   "cell_type": "code",
   "execution_count": 189,
   "metadata": {},
   "outputs": [],
   "source": [
    "from sklearn.ensemble import RandomForestRegressor\n",
    "\n",
    "\n",
    "def build_model():\n",
    "\n",
    "    pipeline = Pipeline([\n",
    "        ('clf', RandomForestRegressor(n_estimators=120))\n",
    "    ]) \n",
    "\n",
    "    return pipeline\n",
    "\n",
    "model =  build_model()   "
   ]
  },
  {
   "cell_type": "code",
   "execution_count": 190,
   "metadata": {},
   "outputs": [],
   "source": [
    "import pickle"
   ]
  },
  {
   "cell_type": "code",
   "execution_count": 191,
   "metadata": {},
   "outputs": [],
   "source": [
    "# def save_model():\n",
    "#     filename = '/Users/dgitahi/Documents/nano degree/final_project/models/model.pkl'\n",
    "#     pickle.dump(model, open(filename, 'wb'))\n",
    "    \n"
   ]
  },
  {
   "cell_type": "code",
   "execution_count": 192,
   "metadata": {},
   "outputs": [],
   "source": [
    "def save_model(model, model_filepath):\n",
    "    with open(model_filepath, 'wb') as file:\n",
    "        pickle.dump(model, file)\n"
   ]
  },
  {
   "cell_type": "code",
   "execution_count": 193,
   "metadata": {},
   "outputs": [
    {
     "data": {
      "text/html": [
       "<div>\n",
       "<style scoped>\n",
       "    .dataframe tbody tr th:only-of-type {\n",
       "        vertical-align: middle;\n",
       "    }\n",
       "\n",
       "    .dataframe tbody tr th {\n",
       "        vertical-align: top;\n",
       "    }\n",
       "\n",
       "    .dataframe thead th {\n",
       "        text-align: right;\n",
       "    }\n",
       "</style>\n",
       "<table border=\"1\" class=\"dataframe\">\n",
       "  <thead>\n",
       "    <tr style=\"text-align: right;\">\n",
       "      <th></th>\n",
       "      <th>dayofweek</th>\n",
       "      <th>quarter</th>\n",
       "      <th>month</th>\n",
       "      <th>year</th>\n",
       "      <th>dayofyear</th>\n",
       "      <th>sin_day</th>\n",
       "      <th>cos_day</th>\n",
       "      <th>dayofmonth</th>\n",
       "      <th>weekofyear</th>\n",
       "    </tr>\n",
       "    <tr>\n",
       "      <th>ds</th>\n",
       "      <th></th>\n",
       "      <th></th>\n",
       "      <th></th>\n",
       "      <th></th>\n",
       "      <th></th>\n",
       "      <th></th>\n",
       "      <th></th>\n",
       "      <th></th>\n",
       "      <th></th>\n",
       "    </tr>\n",
       "  </thead>\n",
       "  <tbody>\n",
       "    <tr>\n",
       "      <th>2019-05-01</th>\n",
       "      <td>2</td>\n",
       "      <td>2</td>\n",
       "      <td>5</td>\n",
       "      <td>2019</td>\n",
       "      <td>121</td>\n",
       "      <td>0.998815</td>\n",
       "      <td>-0.048664</td>\n",
       "      <td>1</td>\n",
       "      <td>18</td>\n",
       "    </tr>\n",
       "    <tr>\n",
       "      <th>2019-05-02</th>\n",
       "      <td>3</td>\n",
       "      <td>2</td>\n",
       "      <td>5</td>\n",
       "      <td>2019</td>\n",
       "      <td>122</td>\n",
       "      <td>0.498713</td>\n",
       "      <td>-0.866767</td>\n",
       "      <td>2</td>\n",
       "      <td>18</td>\n",
       "    </tr>\n",
       "    <tr>\n",
       "      <th>2019-05-03</th>\n",
       "      <td>4</td>\n",
       "      <td>2</td>\n",
       "      <td>5</td>\n",
       "      <td>2019</td>\n",
       "      <td>123</td>\n",
       "      <td>-0.459903</td>\n",
       "      <td>-0.887969</td>\n",
       "      <td>3</td>\n",
       "      <td>18</td>\n",
       "    </tr>\n",
       "    <tr>\n",
       "      <th>2019-05-06</th>\n",
       "      <td>0</td>\n",
       "      <td>2</td>\n",
       "      <td>5</td>\n",
       "      <td>2019</td>\n",
       "      <td>126</td>\n",
       "      <td>0.329991</td>\n",
       "      <td>0.943984</td>\n",
       "      <td>6</td>\n",
       "      <td>19</td>\n",
       "    </tr>\n",
       "    <tr>\n",
       "      <th>2019-05-07</th>\n",
       "      <td>1</td>\n",
       "      <td>2</td>\n",
       "      <td>5</td>\n",
       "      <td>2019</td>\n",
       "      <td>127</td>\n",
       "      <td>0.972630</td>\n",
       "      <td>0.232359</td>\n",
       "      <td>7</td>\n",
       "      <td>19</td>\n",
       "    </tr>\n",
       "    <tr>\n",
       "      <th>...</th>\n",
       "      <td>...</td>\n",
       "      <td>...</td>\n",
       "      <td>...</td>\n",
       "      <td>...</td>\n",
       "      <td>...</td>\n",
       "      <td>...</td>\n",
       "      <td>...</td>\n",
       "      <td>...</td>\n",
       "      <td>...</td>\n",
       "    </tr>\n",
       "    <tr>\n",
       "      <th>2021-12-15</th>\n",
       "      <td>2</td>\n",
       "      <td>4</td>\n",
       "      <td>12</td>\n",
       "      <td>2021</td>\n",
       "      <td>349</td>\n",
       "      <td>-0.279444</td>\n",
       "      <td>-0.960162</td>\n",
       "      <td>15</td>\n",
       "      <td>50</td>\n",
       "    </tr>\n",
       "    <tr>\n",
       "      <th>2021-12-16</th>\n",
       "      <td>3</td>\n",
       "      <td>4</td>\n",
       "      <td>12</td>\n",
       "      <td>2021</td>\n",
       "      <td>350</td>\n",
       "      <td>-0.958933</td>\n",
       "      <td>-0.283633</td>\n",
       "      <td>16</td>\n",
       "      <td>50</td>\n",
       "    </tr>\n",
       "    <tr>\n",
       "      <th>2021-12-17</th>\n",
       "      <td>4</td>\n",
       "      <td>4</td>\n",
       "      <td>12</td>\n",
       "      <td>2021</td>\n",
       "      <td>351</td>\n",
       "      <td>-0.756783</td>\n",
       "      <td>0.653666</td>\n",
       "      <td>17</td>\n",
       "      <td>50</td>\n",
       "    </tr>\n",
       "    <tr>\n",
       "      <th>2021-12-20</th>\n",
       "      <td>0</td>\n",
       "      <td>4</td>\n",
       "      <td>12</td>\n",
       "      <td>2021</td>\n",
       "      <td>354</td>\n",
       "      <td>0.841455</td>\n",
       "      <td>-0.540328</td>\n",
       "      <td>20</td>\n",
       "      <td>51</td>\n",
       "    </tr>\n",
       "    <tr>\n",
       "      <th>2021-12-21</th>\n",
       "      <td>1</td>\n",
       "      <td>4</td>\n",
       "      <td>12</td>\n",
       "      <td>2021</td>\n",
       "      <td>355</td>\n",
       "      <td>-0.000030</td>\n",
       "      <td>-1.000000</td>\n",
       "      <td>21</td>\n",
       "      <td>51</td>\n",
       "    </tr>\n",
       "  </tbody>\n",
       "</table>\n",
       "<p>668 rows × 9 columns</p>\n",
       "</div>"
      ],
      "text/plain": [
       "            dayofweek  quarter  month  year  dayofyear   sin_day   cos_day  \\\n",
       "ds                                                                           \n",
       "2019-05-01          2        2      5  2019        121  0.998815 -0.048664   \n",
       "2019-05-02          3        2      5  2019        122  0.498713 -0.866767   \n",
       "2019-05-03          4        2      5  2019        123 -0.459903 -0.887969   \n",
       "2019-05-06          0        2      5  2019        126  0.329991  0.943984   \n",
       "2019-05-07          1        2      5  2019        127  0.972630  0.232359   \n",
       "...               ...      ...    ...   ...        ...       ...       ...   \n",
       "2021-12-15          2        4     12  2021        349 -0.279444 -0.960162   \n",
       "2021-12-16          3        4     12  2021        350 -0.958933 -0.283633   \n",
       "2021-12-17          4        4     12  2021        351 -0.756783  0.653666   \n",
       "2021-12-20          0        4     12  2021        354  0.841455 -0.540328   \n",
       "2021-12-21          1        4     12  2021        355 -0.000030 -1.000000   \n",
       "\n",
       "            dayofmonth  weekofyear  \n",
       "ds                                  \n",
       "2019-05-01           1          18  \n",
       "2019-05-02           2          18  \n",
       "2019-05-03           3          18  \n",
       "2019-05-06           6          19  \n",
       "2019-05-07           7          19  \n",
       "...                ...         ...  \n",
       "2021-12-15          15          50  \n",
       "2021-12-16          16          50  \n",
       "2021-12-17          17          50  \n",
       "2021-12-20          20          51  \n",
       "2021-12-21          21          51  \n",
       "\n",
       "[668 rows x 9 columns]"
      ]
     },
     "execution_count": 193,
     "metadata": {},
     "output_type": "execute_result"
    }
   ],
   "source": [
    "X_train"
   ]
  },
  {
   "cell_type": "code",
   "execution_count": 194,
   "metadata": {},
   "outputs": [
    {
     "data": {
      "text/plain": [
       "Pipeline(steps=[('clf', RandomForestRegressor(n_estimators=120))])"
      ]
     },
     "execution_count": 194,
     "metadata": {},
     "output_type": "execute_result"
    }
   ],
   "source": [
    "#fit model\n",
    "\n",
    "model.fit(X_train,y_train)"
   ]
  },
  {
   "cell_type": "code",
   "execution_count": 195,
   "metadata": {},
   "outputs": [
    {
     "data": {
      "text/plain": [
       "(                      y  y_Forecasted      mape\n",
       " ds                                             \n",
       " 2021-12-22  2928.300049   2863.500364  2.212877\n",
       " 2021-12-23  2938.330078   2868.107369  2.389885\n",
       " 2021-12-27  2958.129883   2869.224205  3.005469\n",
       " 2021-12-28  2933.739990   2866.326194  2.297879\n",
       " 2021-12-29  2933.100098   2873.438200  2.034090\n",
       " 2021-12-30  2924.010010   2860.141471  2.184279\n",
       " 2021-12-31  2897.040039   2855.915043  1.419552, 2.2205759461783345)"
      ]
     },
     "execution_count": 195,
     "metadata": {},
     "output_type": "execute_result"
    }
   ],
   "source": [
    "def evaluate_model(model,X_test,Y_test):\n",
    "    Y_pred = model.predict(X_test)\n",
    "    predicted = pd.DataFrame(Y_test)\n",
    "    predicted['y_Forecasted'] = Y_pred\n",
    "    mape = abs(predicted['y']-predicted['y_Forecasted'])/predicted['y']*100\n",
    "    predicted['mape'] = mape\n",
    "    mean_mape = predicted.mape.mean()\n",
    "    mse= mean_squared_error(Y_test,Y_pred)\n",
    "    return predicted,mean_mape\n",
    "    #return mse,mape,predicted\n",
    "\n",
    "\n",
    "evaluate_model(model,X_test,y_test)"
   ]
  },
  {
   "cell_type": "code",
   "execution_count": 66,
   "metadata": {},
   "outputs": [
    {
     "data": {
      "text/plain": [
       "Pipeline(steps=[('clf', RandomForestRegressor(n_estimators=120))])"
      ]
     },
     "execution_count": 66,
     "metadata": {},
     "output_type": "execute_result"
    }
   ],
   "source": [
    "model"
   ]
  },
  {
   "cell_type": "code",
   "execution_count": 73,
   "metadata": {},
   "outputs": [],
   "source": [
    "modeltrn = {}\n"
   ]
  },
  {
   "cell_type": "code",
   "execution_count": 160,
   "metadata": {},
   "outputs": [
    {
     "data": {
      "text/html": [
       "<div>\n",
       "<style scoped>\n",
       "    .dataframe tbody tr th:only-of-type {\n",
       "        vertical-align: middle;\n",
       "    }\n",
       "\n",
       "    .dataframe tbody tr th {\n",
       "        vertical-align: top;\n",
       "    }\n",
       "\n",
       "    .dataframe thead th {\n",
       "        text-align: right;\n",
       "    }\n",
       "</style>\n",
       "<table border=\"1\" class=\"dataframe\">\n",
       "  <thead>\n",
       "    <tr style=\"text-align: right;\">\n",
       "      <th>Symbols</th>\n",
       "      <th>AAPL</th>\n",
       "    </tr>\n",
       "    <tr>\n",
       "      <th>Date</th>\n",
       "      <th></th>\n",
       "    </tr>\n",
       "  </thead>\n",
       "  <tbody>\n",
       "    <tr>\n",
       "      <th>2021-01-04</th>\n",
       "      <td>128.453430</td>\n",
       "    </tr>\n",
       "    <tr>\n",
       "      <th>2021-01-05</th>\n",
       "      <td>130.041611</td>\n",
       "    </tr>\n",
       "    <tr>\n",
       "      <th>2021-01-06</th>\n",
       "      <td>125.664215</td>\n",
       "    </tr>\n",
       "    <tr>\n",
       "      <th>2021-01-07</th>\n",
       "      <td>129.952286</td>\n",
       "    </tr>\n",
       "    <tr>\n",
       "      <th>2021-01-08</th>\n",
       "      <td>131.073929</td>\n",
       "    </tr>\n",
       "  </tbody>\n",
       "</table>\n",
       "</div>"
      ],
      "text/plain": [
       "Symbols           AAPL\n",
       "Date                  \n",
       "2021-01-04  128.453430\n",
       "2021-01-05  130.041611\n",
       "2021-01-06  125.664215\n",
       "2021-01-07  129.952286\n",
       "2021-01-08  131.073929"
      ]
     },
     "execution_count": 160,
     "metadata": {},
     "output_type": "execute_result"
    }
   ],
   "source": [
    "df.head()"
   ]
  },
  {
   "cell_type": "code",
   "execution_count": 196,
   "metadata": {},
   "outputs": [
    {
     "data": {
      "text/plain": [
       "array(['AAPL', 'GOOGL'], dtype=object)"
      ]
     },
     "execution_count": 196,
     "metadata": {},
     "output_type": "execute_result"
    }
   ],
   "source": [
    "symbols"
   ]
  },
  {
   "cell_type": "code",
   "execution_count": 164,
   "metadata": {},
   "outputs": [
    {
     "name": "stdout",
     "output_type": "stream",
     "text": [
      "GOOGL\n"
     ]
    }
   ],
   "source": [
    "for symbol in symbols:\n",
    "    print(symbol)"
   ]
  },
  {
   "cell_type": "code",
   "execution_count": 202,
   "metadata": {},
   "outputs": [
    {
     "name": "stdout",
     "output_type": "stream",
     "text": [
      "GOOGL\n",
      "done\n",
      "  Symbol     Error\n",
      "0  GOOGL  2.066532\n",
      "                      y  y_Forecasted      mape Symbol\n",
      "ds                                                    \n",
      "2021-12-22  2928.300049   2865.830943  2.133289  GOOGL\n",
      "2021-12-23  2938.330078   2873.706793  2.199320  GOOGL\n",
      "2021-12-27  2958.129883   2873.142216  2.873020  GOOGL\n",
      "2021-12-28  2933.739990   2874.155711  2.031001  GOOGL\n",
      "2021-12-29  2933.100098   2880.083295  1.807535  GOOGL\n",
      "2021-12-30  2924.010010   2865.781724  1.991385  GOOGL\n",
      "2021-12-31  2897.040039   2855.607385  1.430172  GOOGL\n",
      "saving the model\n",
      "Trained model saved!\n"
     ]
    }
   ],
   "source": [
    "symbols = df.Symbols.unique()\n",
    "trained_model = {}\n",
    "error = []\n",
    "predicted_df = []\n",
    "for symbol in symbols:\n",
    "    print(symbol)\n",
    "    \n",
    "    df_train = df[df.Symbols==symbol]\n",
    "    #print(df_train)\n",
    "\n",
    "\n",
    "    model = build_model()\n",
    "    trained_model[symbol] = model\n",
    "    X_train,y_train,X_test,y_test = split_data(7, df_train)\n",
    "    #print(X_train)\n",
    "\n",
    "    model.fit(X_train,y_train)\n",
    "    print('done')\n",
    "    predicted,mean_mape = evaluate_model(model,X_test,y_test)\n",
    "    predicted['Symbol'] = symbol\n",
    "    \n",
    "\n",
    "    error.append(mean_mape)\n",
    "    predicted_df.append(predicted)\n",
    "    \n",
    "    \n",
    "error_df = pd.DataFrame({'Symbol':symbols,'Error':error})\n",
    "predicted_df = pd.concat(predicted_df)\n",
    "\n",
    "print(error_df)\n",
    "print(predicted_df)\n",
    "\n",
    "print('saving the model')\n",
    "\n",
    "save_model(trained_model,\"/Users/dgitahi/Documents/nano degree/final_project/models/final_model.pkl\")\n",
    "\n",
    "print('Trained model saved!')"
   ]
  },
  {
   "cell_type": "code",
   "execution_count": 101,
   "metadata": {},
   "outputs": [
    {
     "data": {
      "text/plain": [
       "array(['AAPL', 'BAC', 'GOOGL', 'NIO', 'OPEN'], dtype=object)"
      ]
     },
     "execution_count": 101,
     "metadata": {},
     "output_type": "execute_result"
    }
   ],
   "source": [
    "symbols"
   ]
  },
  {
   "cell_type": "code",
   "execution_count": 263,
   "metadata": {},
   "outputs": [],
   "source": [
    "#load model \n",
    "def load_model():\n",
    "    filename = \"/Users/dgitahi/Documents/nano degree/final_project/models/final_model.pkl\"\n",
    "    loaded_model = pickle.load(open(filename, 'rb'))\n",
    "    return loaded_model\n",
    "\n",
    "models = load_model()"
   ]
  },
  {
   "cell_type": "code",
   "execution_count": 265,
   "metadata": {},
   "outputs": [
    {
     "ename": "AttributeError",
     "evalue": "'Pipeline' object has no attribute 'keys'",
     "output_type": "error",
     "traceback": [
      "\u001b[0;31m---------------------------------------------------------------------------\u001b[0m",
      "\u001b[0;31mAttributeError\u001b[0m                            Traceback (most recent call last)",
      "\u001b[0;32m<ipython-input-265-c8cc0bf36044>\u001b[0m in \u001b[0;36m<module>\u001b[0;34m\u001b[0m\n\u001b[0;32m----> 1\u001b[0;31m \u001b[0mmodels\u001b[0m\u001b[0;34m.\u001b[0m\u001b[0mkeys\u001b[0m\u001b[0;34m(\u001b[0m\u001b[0;34m)\u001b[0m\u001b[0;34m\u001b[0m\u001b[0;34m\u001b[0m\u001b[0m\n\u001b[0m",
      "\u001b[0;31mAttributeError\u001b[0m: 'Pipeline' object has no attribute 'keys'"
     ]
    }
   ],
   "source": []
  },
  {
   "cell_type": "code",
   "execution_count": 112,
   "metadata": {},
   "outputs": [
    {
     "data": {
      "text/plain": [
       "Pipeline(steps=[('clf', RandomForestRegressor(n_estimators=120))])"
      ]
     },
     "execution_count": 112,
     "metadata": {},
     "output_type": "execute_result"
    }
   ],
   "source": [
    "models['BAC']"
   ]
  },
  {
   "cell_type": "code",
   "execution_count": 121,
   "metadata": {},
   "outputs": [
    {
     "name": "stderr",
     "output_type": "stream",
     "text": [
      "/Users/dgitahi/anaconda3/lib/python3.6/site-packages/ipykernel_launcher.py:11: FutureWarning:\n",
      "\n",
      "Series.dt.weekofyear and Series.dt.week have been deprecated.  Please use Series.dt.isocalendar().week instead.\n",
      "\n"
     ]
    },
    {
     "data": {
      "text/html": [
       "<div>\n",
       "<style scoped>\n",
       "    .dataframe tbody tr th:only-of-type {\n",
       "        vertical-align: middle;\n",
       "    }\n",
       "\n",
       "    .dataframe tbody tr th {\n",
       "        vertical-align: top;\n",
       "    }\n",
       "\n",
       "    .dataframe thead th {\n",
       "        text-align: right;\n",
       "    }\n",
       "</style>\n",
       "<table border=\"1\" class=\"dataframe\">\n",
       "  <thead>\n",
       "    <tr style=\"text-align: right;\">\n",
       "      <th></th>\n",
       "      <th>ds</th>\n",
       "      <th>Symbol</th>\n",
       "      <th>forecasted_price</th>\n",
       "    </tr>\n",
       "  </thead>\n",
       "  <tbody>\n",
       "    <tr>\n",
       "      <th>0</th>\n",
       "      <td>2022-02-27</td>\n",
       "      <td>AAPL</td>\n",
       "      <td>121.290693</td>\n",
       "    </tr>\n",
       "    <tr>\n",
       "      <th>1</th>\n",
       "      <td>2022-02-28</td>\n",
       "      <td>AAPL</td>\n",
       "      <td>121.124595</td>\n",
       "    </tr>\n",
       "    <tr>\n",
       "      <th>2</th>\n",
       "      <td>2022-03-01</td>\n",
       "      <td>AAPL</td>\n",
       "      <td>124.592404</td>\n",
       "    </tr>\n",
       "    <tr>\n",
       "      <th>3</th>\n",
       "      <td>2022-03-02</td>\n",
       "      <td>AAPL</td>\n",
       "      <td>123.797378</td>\n",
       "    </tr>\n",
       "    <tr>\n",
       "      <th>4</th>\n",
       "      <td>2022-03-03</td>\n",
       "      <td>AAPL</td>\n",
       "      <td>121.490007</td>\n",
       "    </tr>\n",
       "    <tr>\n",
       "      <th>5</th>\n",
       "      <td>2022-03-04</td>\n",
       "      <td>AAPL</td>\n",
       "      <td>120.074919</td>\n",
       "    </tr>\n",
       "    <tr>\n",
       "      <th>6</th>\n",
       "      <td>2022-03-05</td>\n",
       "      <td>AAPL</td>\n",
       "      <td>120.774921</td>\n",
       "    </tr>\n",
       "    <tr>\n",
       "      <th>7</th>\n",
       "      <td>2022-03-06</td>\n",
       "      <td>AAPL</td>\n",
       "      <td>119.673302</td>\n",
       "    </tr>\n",
       "    <tr>\n",
       "      <th>8</th>\n",
       "      <td>2022-03-07</td>\n",
       "      <td>AAPL</td>\n",
       "      <td>119.709338</td>\n",
       "    </tr>\n",
       "    <tr>\n",
       "      <th>9</th>\n",
       "      <td>2022-03-08</td>\n",
       "      <td>AAPL</td>\n",
       "      <td>118.265832</td>\n",
       "    </tr>\n",
       "    <tr>\n",
       "      <th>10</th>\n",
       "      <td>2022-03-09</td>\n",
       "      <td>AAPL</td>\n",
       "      <td>120.202739</td>\n",
       "    </tr>\n",
       "    <tr>\n",
       "      <th>11</th>\n",
       "      <td>2022-03-10</td>\n",
       "      <td>AAPL</td>\n",
       "      <td>119.969879</td>\n",
       "    </tr>\n",
       "  </tbody>\n",
       "</table>\n",
       "</div>"
      ],
      "text/plain": [
       "           ds Symbol  forecasted_price\n",
       "0  2022-02-27   AAPL        121.290693\n",
       "1  2022-02-28   AAPL        121.124595\n",
       "2  2022-03-01   AAPL        124.592404\n",
       "3  2022-03-02   AAPL        123.797378\n",
       "4  2022-03-03   AAPL        121.490007\n",
       "5  2022-03-04   AAPL        120.074919\n",
       "6  2022-03-05   AAPL        120.774921\n",
       "7  2022-03-06   AAPL        119.673302\n",
       "8  2022-03-07   AAPL        119.709338\n",
       "9  2022-03-08   AAPL        118.265832\n",
       "10 2022-03-09   AAPL        120.202739\n",
       "11 2022-03-10   AAPL        119.969879"
      ]
     },
     "execution_count": 121,
     "metadata": {},
     "output_type": "execute_result"
    }
   ],
   "source": [
    "def predict (symbol_list,models,start_date,end_date):\n",
    "    forecasted_df = []\n",
    "    for symbol in symbol_list:\n",
    "    \n",
    "        df = pd.DataFrame(pd.date_range(start_date,end_date,freq='d'))\n",
    "        #print(df)\n",
    "        df.columns = ['ds']\n",
    "\n",
    "        df = create_time_features(df)\n",
    "        features = df.drop(columns= 'ds')\n",
    "        model = models[symbol]\n",
    "        forecasted = model.predict(features)\n",
    "        df['forecasted_price'] = forecasted\n",
    "        df['Symbol']= symbol\n",
    "        df = df[['ds','Symbol','forecasted_price']]\n",
    "        forecasted_df.append(df)\n",
    "    forecasted_df = pd.concat(forecasted_df)\n",
    "    return forecasted_df\n",
    "\n",
    "\n",
    "predict(['AAPL',],models,'2022-02-27','2022-03-10')  "
   ]
  },
  {
   "cell_type": "markdown",
   "metadata": {},
   "source": [
    " "
   ]
  },
  {
   "cell_type": "code",
   "execution_count": 27,
   "metadata": {},
   "outputs": [],
   "source": [
    "\n",
    "error = []\n",
    "predicted_df = []\n",
    "symbols = df.Symbols.unique()\n",
    "for symbol in symbols:\n",
    "    \n",
    "    df_train = df[df.Symbols==symbol]\n",
    "\n",
    "\n",
    "    model = build_model()\n",
    "    X_train,y_train,X_test,y_test = split_data_mdl2(7, df_train)\n",
    "\n",
    "    model.fit(X_train,y_train)\n",
    "    predicted,mean_mape = evaluate_model(model,X_test,y_test)\n",
    "\n",
    "    error.append(mean_mape)\n",
    "    predicted_df.append(predicted)\n",
    "    predicted['Symbol'] = symbol\n",
    "    \n",
    "    \n",
    "error_df = pd.DataFrame({'Symbol':symbols,'Error':error})\n",
    "predicted_df = pd.concat(predicted_df)\n"
   ]
  },
  {
   "cell_type": "code",
   "execution_count": 28,
   "metadata": {},
   "outputs": [
    {
     "data": {
      "text/html": [
       "<div>\n",
       "<style scoped>\n",
       "    .dataframe tbody tr th:only-of-type {\n",
       "        vertical-align: middle;\n",
       "    }\n",
       "\n",
       "    .dataframe tbody tr th {\n",
       "        vertical-align: top;\n",
       "    }\n",
       "\n",
       "    .dataframe thead th {\n",
       "        text-align: right;\n",
       "    }\n",
       "</style>\n",
       "<table border=\"1\" class=\"dataframe\">\n",
       "  <thead>\n",
       "    <tr style=\"text-align: right;\">\n",
       "      <th></th>\n",
       "      <th>Symbol</th>\n",
       "      <th>Error</th>\n",
       "    </tr>\n",
       "  </thead>\n",
       "  <tbody>\n",
       "    <tr>\n",
       "      <th>0</th>\n",
       "      <td>AAPL</td>\n",
       "      <td>2.815627</td>\n",
       "    </tr>\n",
       "    <tr>\n",
       "      <th>1</th>\n",
       "      <td>BAC</td>\n",
       "      <td>0.690538</td>\n",
       "    </tr>\n",
       "    <tr>\n",
       "      <th>2</th>\n",
       "      <td>GOOGL</td>\n",
       "      <td>1.955444</td>\n",
       "    </tr>\n",
       "    <tr>\n",
       "      <th>3</th>\n",
       "      <td>NIO</td>\n",
       "      <td>3.582418</td>\n",
       "    </tr>\n",
       "    <tr>\n",
       "      <th>4</th>\n",
       "      <td>OPEN</td>\n",
       "      <td>34.035919</td>\n",
       "    </tr>\n",
       "  </tbody>\n",
       "</table>\n",
       "</div>"
      ],
      "text/plain": [
       "  Symbol      Error\n",
       "0   AAPL   2.815627\n",
       "1    BAC   0.690538\n",
       "2  GOOGL   1.955444\n",
       "3    NIO   3.582418\n",
       "4   OPEN  34.035919"
      ]
     },
     "execution_count": 28,
     "metadata": {},
     "output_type": "execute_result"
    }
   ],
   "source": [
    "error_df"
   ]
  },
  {
   "cell_type": "code",
   "execution_count": 30,
   "metadata": {},
   "outputs": [],
   "source": [
    "#predicted_df"
   ]
  },
  {
   "cell_type": "code",
   "execution_count": null,
   "metadata": {},
   "outputs": [],
   "source": []
  }
 ],
 "metadata": {
  "kernelspec": {
   "display_name": "Python 3",
   "language": "python",
   "name": "python3"
  },
  "language_info": {
   "codemirror_mode": {
    "name": "ipython",
    "version": 3
   },
   "file_extension": ".py",
   "mimetype": "text/x-python",
   "name": "python",
   "nbconvert_exporter": "python",
   "pygments_lexer": "ipython3",
   "version": "3.6.9"
  }
 },
 "nbformat": 4,
 "nbformat_minor": 2
}
